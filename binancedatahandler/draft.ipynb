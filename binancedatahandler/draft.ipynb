{
 "cells": [
  {
   "cell_type": "code",
   "execution_count": 1,
   "metadata": {},
   "outputs": [],
   "source": [
    "from modules.binanceklines.binance_klines import *\n",
    "\n",
    "from modules.postgrescrud.postgres_crud import PostgresCrud as PG\n",
    "from datetime import datetime"
   ]
  },
  {
   "cell_type": "code",
   "execution_count": null,
   "metadata": {},
   "outputs": [],
   "source": [
    "asset_symbol = 'BTCUSDT'\n",
    "candle_interval = '1m'\n",
    "start_time = '1241893500000'\n",
    "max_attempts = 10\n",
    "\n",
    "binance_klines = GetKlines(asset_symbol, candle_interval, start_time, max_attempts)"
   ]
  },
  {
   "cell_type": "code",
   "execution_count": null,
   "metadata": {},
   "outputs": [],
   "source": [
    "binance_klines.formated()"
   ]
  },
  {
   "cell_type": "code",
   "execution_count": 2,
   "metadata": {},
   "outputs": [],
   "source": [
    "DB_HOST='localhost'\n",
    "POSTGRES_DB='pg_dev'\n",
    "POSTGRES_USER='openbot'\n",
    "POSTGRES_PASSWORD='06Fj@%r7KTXm5+eWn2'"
   ]
  },
  {
   "cell_type": "code",
   "execution_count": 3,
   "metadata": {},
   "outputs": [],
   "source": [
    "pg = PG(DB_HOST, POSTGRES_DB, POSTGRES_USER, POSTGRES_PASSWORD)"
   ]
  },
  {
   "cell_type": "code",
   "execution_count": 16,
   "metadata": {},
   "outputs": [
    {
     "data": {
      "text/plain": [
       "[['BTCUSDT', 'OFF', 'building', None]]"
      ]
     },
     "execution_count": 16,
     "metadata": {},
     "output_type": "execute_result"
    }
   ],
   "source": [
    "pg.read_records_from_table('binance_assets')"
   ]
  },
  {
   "cell_type": "code",
   "execution_count": 14,
   "metadata": {},
   "outputs": [],
   "source": [
    "update_table_job_status = pg.update_record('binance_assets', 'asset_symbol', 'BTCUSDT', 'status', 'building')"
   ]
  },
  {
   "cell_type": "code",
   "execution_count": 15,
   "metadata": {},
   "outputs": [
    {
     "data": {
      "text/plain": [
       "True"
      ]
     },
     "execution_count": 15,
     "metadata": {},
     "output_type": "execute_result"
    }
   ],
   "source": [
    "update_table_job_status"
   ]
  },
  {
   "cell_type": "code",
   "execution_count": null,
   "metadata": {},
   "outputs": [],
   "source": []
  },
  {
   "cell_type": "code",
   "execution_count": null,
   "metadata": {},
   "outputs": [],
   "source": []
  },
  {
   "cell_type": "code",
   "execution_count": null,
   "metadata": {},
   "outputs": [],
   "source": []
  },
  {
   "cell_type": "markdown",
   "metadata": {},
   "source": [
    "# Atribuições\n",
    "\n",
    "## main.py\n",
    "\n",
    "Ciclar lendo a tabela de pares\n",
    "\n",
    "- A) Para os pares cujo \"automatically update\" seja \"yes\":  \n",
    "    \n",
    "    \n",
    "> 1 - \"status = \"building\", verificar se o PID está ativo. Caso não esteja ativo, chamar o \"continuous_update_of_historical_data.py\" em segundo plano (atualizando a tabela de pares, no respectivo par, com o PID do processo chamado). Caso esteja ativo, bypassar;  \n",
    "    \n",
    " > 2 - \"status\" = \"absent\" ou \"full\", chamar o \"continuous_update_of_historical_data.py\" em segundo plano (atualizando a tabela de pares, no respectivo par, com o PID do processo chamado).    \n",
    "\n",
    "- Caso o \"automatically update\" seja seja \"no\", bypassar.  \n",
    "\n",
    "## continuous_update_of_historical_data.py\n",
    "\n",
    "- A) Buscar a tabela de dados do ativo em questão\n",
    "\n",
    "> 1 - Tabela ausente: \n",
    ">> 1.1 - Cria a tabela;  \n",
    ">> 1.2 - Puxa a primeira leva de dados junto à binance, com um start_time muito antigo;  \n",
    ">> 1.3 - Procede a verifiação e eventual correção de dados faltantes;  \n",
    ">> 1.4 - Salva na respectiva tabela do banco;  \n",
    ">> 1.5 - Segue para 2;  \n",
    "\n",
    "> 2 - Tabela presente:\n",
    ">> 2.1 - A partir do timestamp do último candle salvo, faz a solicitação da próxima leva de dados  \n",
    ">> 2.2 - Procede a verifiação e eventual correção de dados faltantes;  \n",
    ">> 2.3 - Salva na respectiva tabela do banco;  \n",
    ">> 2.4 - Marca os status como \"full\""
   ]
  },
  {
   "cell_type": "code",
   "execution_count": 21,
   "metadata": {},
   "outputs": [
    {
     "ename": "TypeError",
     "evalue": "unsupported operand type(s) for +: 'datetime.datetime' and 'int'",
     "output_type": "error",
     "traceback": [
      "\u001b[0;31m---------------------------------------------------------------------------\u001b[0m",
      "\u001b[0;31mTypeError\u001b[0m                                 Traceback (most recent call last)",
      "\u001b[0;32m<ipython-input-21-f92b43e7761d>\u001b[0m in \u001b[0;36m<module>\u001b[0;34m\u001b[0m\n\u001b[1;32m     55\u001b[0m         \u001b[0mmost_recent_open_time\u001b[0m \u001b[0;34m=\u001b[0m \u001b[0mklines\u001b[0m\u001b[0;34m[\u001b[0m\u001b[0mlen\u001b[0m\u001b[0;34m(\u001b[0m\u001b[0mklines\u001b[0m\u001b[0;34m)\u001b[0m\u001b[0;34m-\u001b[0m\u001b[0;36m1\u001b[0m\u001b[0;34m]\u001b[0m\u001b[0;34m[\u001b[0m\u001b[0;36m0\u001b[0m\u001b[0;34m]\u001b[0m \u001b[0;31m#open_time do último candle\u001b[0m\u001b[0;34m\u001b[0m\u001b[0;34m\u001b[0m\u001b[0m\n\u001b[1;32m     56\u001b[0m \u001b[0;34m\u001b[0m\u001b[0m\n\u001b[0;32m---> 57\u001b[0;31m         \u001b[0mstart_time\u001b[0m \u001b[0;34m=\u001b[0m \u001b[0mstr\u001b[0m\u001b[0;34m(\u001b[0m\u001b[0mmost_recent_open_time\u001b[0m \u001b[0;34m+\u001b[0m \u001b[0;36m30000\u001b[0m\u001b[0;34m)\u001b[0m \u001b[0;31m#Um passo de 30s (30000 milissegundos)\u001b[0m\u001b[0;34m\u001b[0m\u001b[0;34m\u001b[0m\u001b[0m\n\u001b[0m\u001b[1;32m     58\u001b[0m \u001b[0;34m\u001b[0m\u001b[0m\n\u001b[1;32m     59\u001b[0m         \u001b[0msave_in_table_job_status\u001b[0m \u001b[0;34m=\u001b[0m \u001b[0mdpg\u001b[0m\u001b[0;34m.\u001b[0m\u001b[0msave_data_in_table\u001b[0m\u001b[0;34m(\u001b[0m\u001b[0mtable_name\u001b[0m\u001b[0;34m,\u001b[0m \u001b[0mkeys\u001b[0m\u001b[0;34m,\u001b[0m \u001b[0mklines\u001b[0m\u001b[0;34m)\u001b[0m\u001b[0;34m\u001b[0m\u001b[0;34m\u001b[0m\u001b[0m\n",
      "\u001b[0;31mTypeError\u001b[0m: unsupported operand type(s) for +: 'datetime.datetime' and 'int'"
     ]
    }
   ],
   "source": [
    "# update_minute_data.py\n",
    "\n",
    "#TODO: Docstrings\n",
    "\n",
    "import os\n",
    "import sys\n",
    "import time\n",
    "from datetime import datetime\n",
    "import requests\n",
    "from modules.postgrescrud.postgres_crud import PostgresCrud as PG\n",
    "from modules.binanceklines.binance_klines import *\n",
    "\n",
    "#from modules import binance_functions as bf, db_functions as dbf, general_functions as gf\n",
    "\n",
    "#pair = str(sys.argv[1])\n",
    "asset_symbol = 'BTCUSDT'\n",
    "\n",
    "#interval = str(sys.argv[2])\n",
    "candle_interval = '1m'\n",
    "\n",
    "#start_time = str(sys.argv[3])\n",
    "start_time = '1241893500000'\n",
    "\n",
    "table_name = 'binance_klines_' + pair + '_' + candle_interval\n",
    "\n",
    "keys = {'open_time': 'timestamp', 'open': 'numeric', 'high': 'numeric', 'low': 'numeric', 'close': 'numeric',\n",
    "    'volume': 'numeric', 'quote_asset_volume': 'numeric', 'number_of_trades': 'integer',\n",
    "    'taker_buy_base_asset_volume': 'numeric', 'taker_buy_quote_asset_volume': 'numeric'}\n",
    "\n",
    "max_attempts = 10 #pode vir de um parâmetro depois\n",
    "\n",
    "update_table_job_status = pg.update_record('binance_assets', 'asset_symbol', pair, 'status', 'building')\n",
    "\n",
    "if (update_table_job_status == 'fail'): #Tratar exceção update_table_job_status = 'fail'\n",
    "    pass\n",
    "\n",
    "round_counter = 1\n",
    "\n",
    "while True:\n",
    "\n",
    "    klines = []\n",
    "        \n",
    "    binance_klines = GetKlines(asset_symbol, candle_interval, start_time, max_attempts)\n",
    "    \n",
    "    klines = binance_klines.formated()\n",
    "    \n",
    "    if (len(klines) > 0):\n",
    "        \n",
    "        if (len(klines) < 500): #Chegou na kline mais recente\n",
    "            \n",
    "            klines = klines[:(len(klines)-1)] #Apaga o último resgistro (candle não fechado)\n",
    "            \n",
    "            if (len(klines) == 0): break\n",
    "        \n",
    "        most_recent_open_time = klines[len(klines)-1][0] #open_time do último candle\n",
    "\n",
    "        start_time = str(most_recent_open_time + 30000) #Um passo de 30s (30000 milissegundos)\n",
    "               \n",
    "        save_in_table_job_status = dpg.save_data_in_table(table_name, keys, klines)\n",
    "        \n",
    "        data_completer_job_status = 'done'\n",
    "        \n",
    "        break\n",
    "\n",
    "        if (len(klines) > 500): break #TODO: Isto é uma anomalia, deve ser tratada\n",
    "            \n",
    "    else: #(Falha de comunicação com a binance: klines nulas)\n",
    "        \n",
    "        pass\n",
    "    \n",
    "    response_ping = requests.get('https://api.binance.com/api/v1/ping')\n",
    "\n",
    "    total_req_courrent_minute = int(response_ping.headers['X-MBX-USED-WEIGHT'])\n",
    "    \n",
    "    if(total_req_courrent_minute >= 1100): time.sleep(60)\n",
    "\n",
    "    round_counter+=1\n",
    "\n",
    "update_table_job_status = pg.update_record('binance_assets', 'asset_symbol', 'BTCUSDT', 'status', 'full')\n",
    "\n",
    "if (update_table_job_status == 'fail'): pass #Tratar exceção update_table_job_status = 'fail'"
   ]
  },
  {
   "cell_type": "code",
   "execution_count": null,
   "metadata": {},
   "outputs": [],
   "source": []
  },
  {
   "cell_type": "code",
   "execution_count": null,
   "metadata": {},
   "outputs": [],
   "source": []
  },
  {
   "cell_type": "code",
   "execution_count": null,
   "metadata": {},
   "outputs": [],
   "source": []
  },
  {
   "cell_type": "code",
   "execution_count": null,
   "metadata": {},
   "outputs": [],
   "source": []
  },
  {
   "cell_type": "code",
   "execution_count": null,
   "metadata": {},
   "outputs": [],
   "source": [
    "#DRAFT: criando lista auxiliar de open_times\n",
    "\n",
    "open_time_list_in = []\n",
    "\n",
    "for i in range(len(klines) - 1):\n",
    "    \n",
    "    open_time_entry = klines[i][0]\n",
    "    \n",
    "    #print (open_time_entry)\n",
    "    \n",
    "    open_time_list_in.append(open_time_entry)"
   ]
  },
  {
   "cell_type": "code",
   "execution_count": null,
   "metadata": {},
   "outputs": [],
   "source": [
    "def aux_open_time(data_in):\n",
    "    \n",
    "    aux_open_time_list = []\n",
    "    \n",
    "    current_open_time = data_in.loc[0, 'open_time']\n",
    "\n",
    "    last_open_time = data_in.loc[len(data_in)-1, 'open_time']\n",
    "    \n",
    "    while (current_open_time < last_open_time):\n",
    "        \n",
    "        aux_open_time_list.append(current_open_time)\n",
    "        \n",
    "        current_open_time = datetime.fromtimestamp(datetime.timestamp(current_open_time) + 60)\n",
    "        \n",
    "    return aux_open_time_list"
   ]
  },
  {
   "cell_type": "code",
   "execution_count": null,
   "metadata": {},
   "outputs": [],
   "source": [
    "#Para anexar aos testes\n",
    "\n",
    "from copy import deepcopy\n",
    "\n",
    "def baguncar_klines(klines_in):\n",
    "    \n",
    "    klines_out = deepcopy(klines_in)\n",
    "    \n",
    "    for i in range(len(klines_in)):\n",
    "      \n",
    "        klines_out[i][0] = (klines_in[i][0] + 40000)\n",
    "    \n",
    "    return klines_out"
   ]
  },
  {
   "cell_type": "code",
   "execution_count": null,
   "metadata": {},
   "outputs": [],
   "source": [
    "#Trash\n",
    "\n"
   ]
  }
 ],
 "metadata": {
  "kernelspec": {
   "display_name": "binance_data_handler",
   "language": "python",
   "name": "binance_data_handler"
  },
  "language_info": {
   "codemirror_mode": {
    "name": "ipython",
    "version": 3
   },
   "file_extension": ".py",
   "mimetype": "text/x-python",
   "name": "python",
   "nbconvert_exporter": "python",
   "pygments_lexer": "ipython3",
   "version": "3.8.1"
  }
 },
 "nbformat": 4,
 "nbformat_minor": 4
}
