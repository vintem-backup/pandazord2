{
 "cells": [
  {
   "cell_type": "code",
   "execution_count": 1,
   "metadata": {},
   "outputs": [],
   "source": [
    "from modules.binanceklines.binance_klines import *\n",
    "\n",
    "from modules.postgrescrud.postgres_crud import PostgresCrud as PG\n",
    "from datetime import datetime"
   ]
  },
  {
   "cell_type": "code",
   "execution_count": 2,
   "metadata": {},
   "outputs": [],
   "source": [
    "#PG handler\n",
    "\n",
    "DB_HOST='localhost'\n",
    "POSTGRES_USER='pandazord'\n",
    "POSTGRES_DB='pandazord_database'\n",
    "POSTGRES_PASSWORD='06Fj@%r7KTXm5+eWn2'\n",
    "\n",
    "pg = PG(DB_HOST, POSTGRES_DB, POSTGRES_USER, POSTGRES_PASSWORD)"
   ]
  },
  {
   "cell_type": "code",
   "execution_count": null,
   "metadata": {},
   "outputs": [],
   "source": [
    "#Binance handler\n",
    "\n",
    "asset_symbol = 'BTCUSDT'\n",
    "candle_interval = '1m'\n",
    "start_time = '1241893500000'\n",
    "max_attempts = 10\n",
    "\n",
    "binance_klines = GetKlines(asset_symbol, candle_interval, start_time, max_attempts)"
   ]
  },
  {
   "cell_type": "code",
   "execution_count": null,
   "metadata": {},
   "outputs": [],
   "source": []
  },
  {
   "cell_type": "code",
   "execution_count": 20,
   "metadata": {},
   "outputs": [],
   "source": [
    "def return_last_open_time(table_name):\n",
    "\n",
    "    keys_dict = {'open_time': 'timestamp', 'open': 'numeric', 'high': 'numeric', 'low': 'numeric', \n",
    "                 'close': 'numeric', 'volume': 'numeric'}\n",
    "    \n",
    "    table_was_created = pg.create_table(table_name, keys_dict, pk='open_time')\n",
    "    \n",
    "    if (table_was_created): last_open_time_timestamp_format = 1241893500000\n",
    "    \n",
    "    else:\n",
    "        \n",
    "        try:\n",
    "            \n",
    "            last_open_time_datetime_format = pg.read_entries_from_table(table_name, \n",
    "                                                                        field_key = 'open_time', \n",
    "                                                                        sort_type = 'DESC', \n",
    "                                                                        limit = 1)[0][0]\n",
    "            \n",
    "            last_open_time_timestamp_format = int(1000*(datetime.timestamp(last_open_time_datetime_format)))\n",
    "            \n",
    "        except:\n",
    "            \n",
    "            last_open_time_timestamp_format = 1241893500000\n",
    "    \n",
    "    return last_open_time_timestamp_format"
   ]
  },
  {
   "cell_type": "code",
   "execution_count": 22,
   "metadata": {},
   "outputs": [
    {
     "data": {
      "text/plain": [
       "1502953320000"
      ]
     },
     "execution_count": 22,
     "metadata": {},
     "output_type": "execute_result"
    }
   ],
   "source": [
    "#Test return_last_open_time\n",
    "\n",
    "asset_symbol = 'ETHUSDT'\n",
    "#asset_symbol = 'EOSUSDT'\n",
    "\n",
    "table_name = 'binance_klines_' + asset_symbol + '_' + '1m'\n",
    "\n",
    "\n",
    "last_open_time = return_last_open_time(table_name)\n",
    "\n",
    "last_open_time"
   ]
  },
  {
   "cell_type": "code",
   "execution_count": null,
   "metadata": {},
   "outputs": [],
   "source": []
  },
  {
   "cell_type": "code",
   "execution_count": null,
   "metadata": {},
   "outputs": [],
   "source": []
  },
  {
   "cell_type": "code",
   "execution_count": null,
   "metadata": {},
   "outputs": [],
   "source": []
  },
  {
   "cell_type": "code",
   "execution_count": null,
   "metadata": {},
   "outputs": [],
   "source": []
  },
  {
   "cell_type": "code",
   "execution_count": null,
   "metadata": {},
   "outputs": [],
   "source": []
  },
  {
   "cell_type": "markdown",
   "metadata": {},
   "source": [
    "# Atribuições\n",
    "\n",
    "## main.py\n",
    "\n",
    "Ciclar lendo a tabela de pares\n",
    "\n",
    "- A) Para os pares cujo \"automatically update\" seja \"yes\":  \n",
    "    \n",
    "    \n",
    "> 1 - \"status = \"building\", verificar se o PID está ativo. Caso não esteja ativo, chamar o \"continuous_update_of_historical_data.py\" em segundo plano (atualizando a tabela de pares, no respectivo par, com o PID do processo chamado). Caso esteja ativo, bypassar;  \n",
    "    \n",
    " > 2 - \"status\" = \"absent\" ou \"full\", chamar o \"continuous_update_of_historical_data.py\" em segundo plano (atualizando a tabela de pares, no respectivo par, com o PID do processo chamado).    \n",
    "\n",
    "- Caso o \"automatically update\" seja seja \"no\", bypassar.  \n",
    "\n",
    "## continuous_update_of_historical_data.py\n",
    "\n",
    "- A) Buscar a tabela de dados do ativo em questão\n",
    "\n",
    "> 1 - Tabela ausente: \n",
    ">> 1.1 - Cria a tabela;  \n",
    ">> 1.2 - Puxa a primeira leva de dados junto à binance, com um start_time muito antigo;  \n",
    ">> 1.3 - Procede a verifiação e eventual correção de dados faltantes;  \n",
    ">> 1.4 - Salva na respectiva tabela do banco;  \n",
    ">> 1.5 - Segue para 2;  \n",
    "\n",
    "> 2 - Tabela presente:\n",
    ">> 2.1 - A partir do timestamp do último candle salvo, faz a solicitação da próxima leva de dados  \n",
    ">> 2.2 - Procede a verifiação e eventual correção de dados faltantes;  \n",
    ">> 2.3 - Salva na respectiva tabela do banco;  \n",
    ">> 2.4 - Marca os status como \"full\""
   ]
  },
  {
   "cell_type": "code",
   "execution_count": 25,
   "metadata": {},
   "outputs": [
    {
     "ename": "NameError",
     "evalue": "name 'treat_for_missing_data' is not defined",
     "output_type": "error",
     "traceback": [
      "\u001b[0;31m---------------------------------------------------------------------------\u001b[0m",
      "\u001b[0;31mNameError\u001b[0m                                 Traceback (most recent call last)",
      "\u001b[0;32m<ipython-input-25-781481a91db5>\u001b[0m in \u001b[0;36m<module>\u001b[0;34m\u001b[0m\n\u001b[1;32m     51\u001b[0m \u001b[0;34m\u001b[0m\u001b[0m\n\u001b[1;32m     52\u001b[0m         \u001b[0;31m#PAREI AQUI\u001b[0m\u001b[0;34m\u001b[0m\u001b[0;34m\u001b[0m\u001b[0;34m\u001b[0m\u001b[0m\n\u001b[0;32m---> 53\u001b[0;31m         \u001b[0mtreated_klines\u001b[0m\u001b[0;34m,\u001b[0m \u001b[0mlast_open_time\u001b[0m \u001b[0;34m=\u001b[0m \u001b[0mtreat_for_missing_data\u001b[0m\u001b[0;34m(\u001b[0m\u001b[0mlast_open_time\u001b[0m\u001b[0;34m,\u001b[0m \u001b[0mklines\u001b[0m\u001b[0;34m)\u001b[0m\u001b[0;34m\u001b[0m\u001b[0;34m\u001b[0m\u001b[0m\n\u001b[0m\u001b[1;32m     54\u001b[0m \u001b[0;34m\u001b[0m\u001b[0m\n\u001b[1;32m     55\u001b[0m \u001b[0;34m\u001b[0m\u001b[0m\n",
      "\u001b[0;31mNameError\u001b[0m: name 'treat_for_missing_data' is not defined"
     ]
    }
   ],
   "source": [
    "#TODO: Docstrings\n",
    "\n",
    "import os\n",
    "import sys\n",
    "import time\n",
    "from datetime import datetime\n",
    "import requests\n",
    "from modules.postgrescrud.postgres_crud import PostgresCrud as PG\n",
    "from modules.binanceklines.binance_klines import *\n",
    "\n",
    "#pair = str(sys.argv[1])\n",
    "asset_symbol = 'BTCUSDT'\n",
    "\n",
    "#interval = str(sys.argv[2])\n",
    "candle_interval = '1m'\n",
    "\n",
    "#start_time = str(sys.argv[3])\n",
    "#start_time = '1241893500000'\n",
    "\n",
    "table_name = 'binance_klines_' + asset_symbol + '_' + candle_interval\n",
    "\n",
    "keys = {'open_time': 'timestamp', 'open': 'numeric', 'high': 'numeric', 'low': 'numeric', 'close': 'numeric',\n",
    "    'volume': 'numeric'}\n",
    "\n",
    "max_attempts = 10 #TODO: Pode vir de um parâmetro depois\n",
    "\n",
    "was_entry_updated_to_building = pg.update_entry('binance_assets', \n",
    "                                                'asset_symbol', asset_symbol, 'status', 'building')\n",
    "\n",
    "if not (was_entry_updated_to_building): pass #TODO: Tratar exceção\n",
    "\n",
    "round_counter = 1\n",
    "\n",
    "last_open_time = return_last_open_time(table_name)\n",
    "\n",
    "while True:\n",
    "\n",
    "    klines = []\n",
    "    \n",
    "    start_time = str(last_open_time + 30000)  #Um passo de 30s (30000 milissegundos\n",
    "        \n",
    "    klines = GetKlines(asset_symbol, candle_interval, start_time, max_attempts).formated()\n",
    "    \n",
    "    if (len(klines) > 0):\n",
    "        \n",
    "        if (len(klines) < 500): #Chegou na kline mais recente\n",
    "            \n",
    "            klines = klines[:(len(klines)-1)] #Apaga o último resgistro (candle não fechado)\n",
    "            \n",
    "            if (len(klines) == 0): break\n",
    "        \n",
    "        #PAREI AQUI\n",
    "        treated_klines, last_open_time = treat_for_missing_data(last_open_time, klines)\n",
    "        \n",
    "        \n",
    "        ###\n",
    "               \n",
    "        save_in_table_job_status = pg.save_data_in_table(table_name, keys, treated_klines)\n",
    "        \n",
    "        data_completer_job_status = 'done'\n",
    "        \n",
    "        break\n",
    "\n",
    "        if (len(klines) > 500): break #TODO: Isto é uma anomalia, deve ser tratada\n",
    "            \n",
    "    else: #TODO: Tratar exceção (Falha de comunicação com a binance, klines nulas)\n",
    "        \n",
    "        pass\n",
    "    \n",
    "    response_ping = requests.get('https://api.binance.com/api/v1/ping')\n",
    "\n",
    "    limite_of_requests = bool (int(response_ping.headers['X-MBX-USED-WEIGHT']) >= 1100)\n",
    "    \n",
    "    if(limite_of_requests): time.sleep(60)\n",
    "\n",
    "    round_counter+=1\n",
    "\n",
    "was_entry_updated_to_full = pg.update_entry('binance_assets', 'asset_symbol', asset_symbol, 'status', 'full')\n",
    "\n",
    "if not (was_entry_updated_to_full): pass #TODO: Tratar exceção"
   ]
  },
  {
   "cell_type": "code",
   "execution_count": null,
   "metadata": {
    "scrolled": true
   },
   "outputs": [],
   "source": [
    "response_ping = requests.get('https://api.binance.com/api/v1/ping')\n",
    "\n",
    "limite_of_requests = bool (int(response_ping.headers['X-MBX-USED-WEIGHT']) >= 1100)\n",
    "\n",
    "limite_of_requests"
   ]
  },
  {
   "cell_type": "code",
   "execution_count": null,
   "metadata": {},
   "outputs": [],
   "source": []
  },
  {
   "cell_type": "code",
   "execution_count": null,
   "metadata": {},
   "outputs": [],
   "source": []
  },
  {
   "cell_type": "code",
   "execution_count": null,
   "metadata": {},
   "outputs": [],
   "source": [
    "#DRAFT: criando lista auxiliar de open_times\n",
    "\n",
    "open_time_list_in = []\n",
    "\n",
    "for i in range(len(klines) - 1):\n",
    "    \n",
    "    open_time_entry = klines[i][0]\n",
    "    \n",
    "    #print (open_time_entry)\n",
    "    \n",
    "    open_time_list_in.append(open_time_entry)"
   ]
  },
  {
   "cell_type": "code",
   "execution_count": null,
   "metadata": {},
   "outputs": [],
   "source": [
    "def aux_open_time(data_in):\n",
    "    \n",
    "    aux_open_time_list = []\n",
    "    \n",
    "    current_open_time = data_in.loc[0, 'open_time']\n",
    "\n",
    "    last_open_time = data_in.loc[len(data_in)-1, 'open_time']\n",
    "    \n",
    "    while (current_open_time < last_open_time):\n",
    "        \n",
    "        aux_open_time_list.append(current_open_time)\n",
    "        \n",
    "        current_open_time = datetime.fromtimestamp(datetime.timestamp(current_open_time) + 60)\n",
    "        \n",
    "    return aux_open_time_list"
   ]
  },
  {
   "cell_type": "code",
   "execution_count": null,
   "metadata": {},
   "outputs": [],
   "source": [
    "# Tabelas testes\n",
    "\n",
    "# 1 - create_table test\n",
    "\n",
    "asset_symbol = 'EOSUSDT'\n",
    "\n",
    "test_table_name = 'binance_klines_' + asset_symbol + '_' + candle_interval\n",
    "\n",
    "keys_dict = {'open_time': 'timestamp', 'open': 'numeric', 'high': 'numeric', 'low': 'numeric', \n",
    "             'close': 'numeric', 'volume': 'numeric'}\n",
    "\n",
    "table_was_created = pg.create_table(test_table_name, keys_dict ,pk='open_time')\n",
    "\n",
    "if table_was_created: print('Tabela {} criada com sucesso'.format(test_table_name))"
   ]
  },
  {
   "cell_type": "code",
   "execution_count": null,
   "metadata": {},
   "outputs": [],
   "source": [
    "# 2 - save_data_in_table test\n",
    "\n",
    "import datetime\n",
    "\n",
    "test_data = [[datetime.datetime(2017, 8, 17, 4, 0), '4261.48', '4261.48', '4261.48',\n",
    "              '4261.48', '1.77518300'],\n",
    "                [datetime.datetime(2017, 8, 17, 4, 1), '4261.48', '4261.48', '4261.48',\n",
    "              '4261.48', '1.77518300'],\n",
    "                [datetime.datetime(2017, 8, 17, 4, 2), '4261.48', '4261.48', '4261.48',\n",
    "              '4261.48', '1.77518300']]\n",
    "\n",
    "data_was_saved_in_table = pg.save_data_in_table(test_table_name, keys_dict, test_data)\n",
    "\n",
    "if data_was_saved_in_table: print('Dados gravados na tabela {} com sucesso'.format(test_table_name))"
   ]
  },
  {
   "cell_type": "code",
   "execution_count": null,
   "metadata": {},
   "outputs": [],
   "source": [
    "#Para anexar aos testes\n",
    "\n",
    "from copy import deepcopy\n",
    "\n",
    "def baguncar_klines(klines_in):\n",
    "    \n",
    "    klines_out = deepcopy(klines_in)\n",
    "    \n",
    "    for i in range(len(klines_in)):\n",
    "      \n",
    "        klines_out[i][0] = (klines_in[i][0] + 40000)\n",
    "    \n",
    "    return klines_out"
   ]
  },
  {
   "cell_type": "code",
   "execution_count": null,
   "metadata": {},
   "outputs": [],
   "source": [
    "#Trash\n",
    "\n"
   ]
  }
 ],
 "metadata": {
  "kernelspec": {
   "display_name": "binancedatahandler",
   "language": "python",
   "name": "binancedatahandler"
  },
  "language_info": {
   "codemirror_mode": {
    "name": "ipython",
    "version": 3
   },
   "file_extension": ".py",
   "mimetype": "text/x-python",
   "name": "python",
   "nbconvert_exporter": "python",
   "pygments_lexer": "ipython3",
   "version": "3.8.1"
  }
 },
 "nbformat": 4,
 "nbformat_minor": 4
}
