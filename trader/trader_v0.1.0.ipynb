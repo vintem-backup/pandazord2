{
 "cells": [
  {
   "cell_type": "markdown",
   "metadata": {},
   "source": [
    "# Trader\n",
    "\n",
    "## Real\n",
    "\n",
    "1 - Pergunta à estratégia quantas amostras, de qual 'candle_interval', no mínimo, são necessárias para o cálculo da posição\n",
    "\n",
    "2 - Solicita as klines correspondentes\n",
    "\n",
    "3 - Envia as klines e o 'Asset.info()' ao módulo de estratégia para análise, recolhendo o sinal correspondente\n",
    "\n",
    "4 - Para sinal diferente de 'hold', aciona o 'order_handler'\n",
    "\n",
    "5 - Dorme\n",
    "\n",
    "6 - 'Refresca' as klines\n",
    "\n",
    "7 - Repete a partir do passo 3\n",
    "\n",
    "## Backing Test\n",
    "\n",
    "1 - Pede todas as klines\n",
    "\n",
    "2 - Pergunta à estratégia quantas amostras, de qual 'candle_interval', no mínimo, são necessárias para o cálculo da posição\n",
    "\n",
    "3 - Envia a fatia (suficientemente longa) de klines mais antiga e o 'Asset.info()' ao módulo de estratégia para análise, recolhendo o sinal correspondente\n",
    "\n",
    "4 - Para sinal diferente de 'hold' procede a 'ordem fictícia'\n",
    "\n",
    "5 - 'Avança uma' kline, 'refrescando' a fatia\n",
    "\n",
    "6 - Repete a partir do passo 3\n",
    "\n",
    "## Observações\n",
    "\n",
    "1 - É a estratégia que instancia o stop  \n",
    "2 - Existe um problema, ainda sem causa descoberta: o módulo 'klines_handler' está retornando uma kline a menos  \n",
    "    \n",
    "    2.1 - Solução sugerida:  \n",
    "    \n",
    "    Em OneMinuteCandlesAmount.total(self, out_candle_number), 'pedir um out_candle_number a mais, truncando em \n",
    "    'get_latest' para o número de candles desejado"
   ]
  },
  {
   "cell_type": "code",
   "execution_count": 1,
   "metadata": {},
   "outputs": [],
   "source": [
    "from modules.klines_handler import *\n",
    "from modules.assets_handler import AssetsHandler\n",
    "from pydoc import locate\n",
    "\n",
    "##Database credentials\n",
    "DB_HOST = 'localhost'\n",
    "DB_PORT = 5432\n",
    "DB_NAME = 'pandazord_database'                      \n",
    "DB_USER = 'pandazord'\n",
    "DB_PASSWORD = 'QBBV9E%pcYKHUcjj'\n",
    "\n",
    "## Market and Asset\n",
    "exchange_name = 'binance'\n",
    "asset_symbol = 'BTCUSDT'"
   ]
  },
  {
   "cell_type": "code",
   "execution_count": 2,
   "metadata": {},
   "outputs": [],
   "source": [
    "Asset = AssetsHandler(DB_USER, DB_PASSWORD, DB_HOST, DB_PORT, DB_NAME, exchange_name, asset_symbol)\n",
    "op_param = Asset.info().iloc[0].operational_parameters"
   ]
  },
  {
   "cell_type": "code",
   "execution_count": 20,
   "metadata": {},
   "outputs": [],
   "source": [
    "sleep_time_seconds = (OneMinuteCandlesAmount(op_param['sleep_duration']).per_out_candle)*60\n",
    "strategy_name = op_param['strategy']['name']\n",
    "stop_name = op_param['stop_loss']['name']\n",
    "\n",
    "Strategy = locate('modules.strategies.' + strategy_name)(op_param)\n",
    "#StopLoss = locate('modules.stop_loss.' + stop_name)(op_param)"
   ]
  },
  {
   "cell_type": "code",
   "execution_count": 21,
   "metadata": {},
   "outputs": [
    {
     "name": "stdout",
     "output_type": "stream",
     "text": [
      "60\n"
     ]
    }
   ],
   "source": [
    "print (sleep_time_seconds)"
   ]
  },
  {
   "cell_type": "code",
   "execution_count": 24,
   "metadata": {},
   "outputs": [
    {
     "data": {
      "text/plain": [
       "720"
      ]
     },
     "execution_count": 24,
     "metadata": {},
     "output_type": "execute_result"
    }
   ],
   "source": [
    "OneMinuteCandlesAmount(op_param['candle_interval']).per_out_candle"
   ]
  },
  {
   "cell_type": "code",
   "execution_count": null,
   "metadata": {},
   "outputs": [],
   "source": [
    "op_param[]"
   ]
  },
  {
   "cell_type": "code",
   "execution_count": null,
   "metadata": {},
   "outputs": [],
   "source": []
  },
  {
   "cell_type": "code",
   "execution_count": null,
   "metadata": {},
   "outputs": [],
   "source": []
  },
  {
   "cell_type": "code",
   "execution_count": null,
   "metadata": {},
   "outputs": [],
   "source": []
  },
  {
   "cell_type": "code",
   "execution_count": null,
   "metadata": {},
   "outputs": [],
   "source": []
  },
  {
   "cell_type": "code",
   "execution_count": null,
   "metadata": {},
   "outputs": [],
   "source": []
  }
 ],
 "metadata": {
  "kernelspec": {
   "display_name": "trader",
   "language": "python",
   "name": "trader"
  },
  "language_info": {
   "codemirror_mode": {
    "name": "ipython",
    "version": 3
   },
   "file_extension": ".py",
   "mimetype": "text/x-python",
   "name": "python",
   "nbconvert_exporter": "python",
   "pygments_lexer": "ipython3",
   "version": "3.8.1"
  }
 },
 "nbformat": 4,
 "nbformat_minor": 4
}
