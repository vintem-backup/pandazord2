{
 "cells": [
  {
   "cell_type": "markdown",
   "metadata": {},
   "source": [
    "# Trader\n",
    "\n",
    "## Real\n",
    "\n",
    "1 - Pergunta à estratégia quantas amostras, de qual 'candle_interval', no mínimo, são necessárias para o cálculo da posição\n",
    "\n",
    "2 - Solicita as klines correspondentes\n",
    "\n",
    "3 - Envia as klines e o 'Asset.info()' ao módulo de estratégia para análise, recolhendo o sinal correspondente\n",
    "\n",
    "4 - Para sinal diferente de 'hold', aciona o 'order_handler'\n",
    "\n",
    "5 - Dorme\n",
    "\n",
    "6 - 'Refresca' as klines\n",
    "\n",
    "7 - Repete a partir do passo 3\n",
    "\n",
    "## Backing Test\n",
    "\n",
    "1 - Pede todas as klines\n",
    "\n",
    "2 - Pergunta à estratégia quantas amostras, de qual 'candle_interval', no mínimo, são necessárias para o cálculo da posição\n",
    "\n",
    "3 - Envia a fatia (suficientemente longa) de klines mais antiga e o 'Asset.info()' ao módulo de estratégia para análise, recolhendo o sinal correspondente\n",
    "\n",
    "4 - Para sinal diferente de 'hold' procede a 'ordem fictícia'\n",
    "\n",
    "5 - 'Avança uma' kline, 'refrescando' a fatia\n",
    "\n",
    "6 - Repete a partir do passo 3\n",
    "\n",
    "## Observações\n",
    "\n",
    "1 - É a estratégia que instancia o stop  \n",
    "2 - Existe um problema, ainda sem causa descoberta: o módulo 'klines_handler' está retornando uma kline a menos  \n",
    "    \n",
    "    2.1 - Solução sugerida:  \n",
    "    \n",
    "    Em OneMinuteCandlesAmount.total(self, out_candle_number), 'pedir um out_candle_number a mais, truncando em \n",
    "    'get_latest' para o número de candles desejado"
   ]
  },
  {
   "cell_type": "code",
   "execution_count": 1,
   "metadata": {},
   "outputs": [],
   "source": [
    "from modules.assets_handler import AssetsHandler\n",
    "from pydoc import locate\n",
    "import time\n",
    "\n",
    "##Database credentials\n",
    "DB_HOST = 'localhost'\n",
    "DB_PORT = 5432\n",
    "DB_NAME = 'pandazord_database'                      \n",
    "DB_USER = 'pandazord'\n",
    "DB_PASSWORD = 'QBBV9E%pcYKHUcjj'\n",
    "\n",
    "## Market and Asset\n",
    "exchange_name = 'binance'\n",
    "asset_symbol = 'BTCUSDT'"
   ]
  },
  {
   "cell_type": "code",
   "execution_count": 2,
   "metadata": {},
   "outputs": [],
   "source": [
    "Asset = AssetsHandler(DB_USER, DB_PASSWORD, DB_HOST, DB_PORT, DB_NAME, exchange_name, asset_symbol)\n",
    "op_param = Asset.info().iloc[0].operational_parameters"
   ]
  },
  {
   "cell_type": "code",
   "execution_count": 42,
   "metadata": {},
   "outputs": [],
   "source": [
    "strategy_name = op_param['strategy']['name']\n",
    "stop_name = op_param['stop_loss']['name']\n",
    "\n",
    "Strategy = locate('modules.strategies.' + strategy_name)(op_param)\n",
    "StopLoss = locate('modules.stop_loss.' + stop_name)(op_param)\n",
    "OrderHandler = locate('modules.order_handler' + exchange_name.capitalize() + 'Handler')\n",
    "KlinesHandler = locate('modules.klines_handler.' + exchange_name.capitalize() \n",
    "                       + 'FromDb')(DB_USER, DB_PASSWORD, DB_HOST, DB_PORT, DB_NAME)"
   ]
  },
  {
   "cell_type": "code",
   "execution_count": 38,
   "metadata": {},
   "outputs": [],
   "source": [
    "# Ação do trader por ciclo (real)\n",
    "\n",
    "#while true\n",
    "\n",
    "sleep_time = op_param['sleep_duration']\n",
    "is_positioned = bool(Asset.info().position.iloc[0]['side'] != 'closed')\n",
    "\n",
    "if (is_positioned):\n",
    "    \n",
    "    sleep_time = 65\n",
    "    n_candles = StopLoss.how_many_candles() #TODO: Como será um ciclo, pode ir pra fora do while/for\n",
    "    klines = KlinesHandler.get_latest(asset_symbol, \n",
    "                                      candle_interval='1m', \n",
    "                                      number_of_candles=n_candles)\n",
    "    \n",
    "    stop = StopLoss.verify(klines, Asset.info())\n",
    "    \n",
    "    if (stop.is_true):\n",
    "        \n",
    "        order = OrderHandler.execute(stop)\n",
    "        time.sleep(10)\n",
    "        order_confirmation = OrderHandler.check(order)\n",
    "        Asset.update_position(order_confirmation)\n",
    "\n",
    "else: pass\n",
    "\n",
    "n_candles = Strategy.how_many_candles() #TODO: Como será um ciclo, pode ir pra fora do while/for\n",
    "klines = KlinesHandler.get_latest(asset_symbol, \n",
    "                                  candle_interval=op_param['candle_interval'], \n",
    "                                  number_of_candles=n_candles)\n",
    "\n",
    "side, leverage = Strategy.what_side_and_leverage(klines)\n",
    "trade = inspect(side, leverage, Asset.info())\n",
    "\n",
    "if (trade.is_true):\n",
    "\n",
    "    order = OrderHandler.execute(trade)\n",
    "    time.sleep(10)\n",
    "    order_confirmation = OrderHandler.check(order)\n",
    "    Asset.update_position(order_confirmation)\n",
    "\n",
    "time.sleep(sleep_time)"
   ]
  },
  {
   "cell_type": "code",
   "execution_count": 11,
   "metadata": {},
   "outputs": [
    {
     "data": {
      "text/plain": [
       "int"
      ]
     },
     "execution_count": 11,
     "metadata": {},
     "output_type": "execute_result"
    }
   ],
   "source": [
    "type(op_param['sleep_duration'])"
   ]
  },
  {
   "cell_type": "code",
   "execution_count": 34,
   "metadata": {},
   "outputs": [],
   "source": [
    "is_positioned = bool(Asset.info().position.iloc[0]['side'] != 'closed')"
   ]
  },
  {
   "cell_type": "code",
   "execution_count": 35,
   "metadata": {},
   "outputs": [
    {
     "data": {
      "text/plain": [
       "True"
      ]
     },
     "execution_count": 35,
     "metadata": {},
     "output_type": "execute_result"
    }
   ],
   "source": [
    "is_positioned"
   ]
  },
  {
   "cell_type": "code",
   "execution_count": 40,
   "metadata": {},
   "outputs": [
    {
     "data": {
      "text/html": [
       "<div>\n",
       "<style scoped>\n",
       "    .dataframe tbody tr th:only-of-type {\n",
       "        vertical-align: middle;\n",
       "    }\n",
       "\n",
       "    .dataframe tbody tr th {\n",
       "        vertical-align: top;\n",
       "    }\n",
       "\n",
       "    .dataframe thead th {\n",
       "        text-align: right;\n",
       "    }\n",
       "</style>\n",
       "<table border=\"1\" class=\"dataframe\">\n",
       "  <thead>\n",
       "    <tr style=\"text-align: right;\">\n",
       "      <th></th>\n",
       "      <th>asset_symbol</th>\n",
       "      <th>auto_update</th>\n",
       "      <th>status</th>\n",
       "      <th>last_updated_by_pid</th>\n",
       "      <th>collect_data_since</th>\n",
       "      <th>trade_on</th>\n",
       "      <th>available_amount</th>\n",
       "      <th>operational_parameters</th>\n",
       "      <th>position</th>\n",
       "    </tr>\n",
       "  </thead>\n",
       "  <tbody>\n",
       "    <tr>\n",
       "      <th>0</th>\n",
       "      <td>BTCUSDT</td>\n",
       "      <td>ON</td>\n",
       "      <td>full</td>\n",
       "      <td>362</td>\n",
       "      <td>2019-02-26 00:00:00+00:00</td>\n",
       "      <td>N</td>\n",
       "      <td>0.0</td>\n",
       "      <td>{'strategy': {'name': 'CrossSMA', 'parameters'...</td>\n",
       "      <td>{'side': 'closed', 'size': 0.0, 'target_price'...</td>\n",
       "    </tr>\n",
       "  </tbody>\n",
       "</table>\n",
       "</div>"
      ],
      "text/plain": [
       "  asset_symbol auto_update status  last_updated_by_pid  \\\n",
       "0      BTCUSDT          ON   full                  362   \n",
       "\n",
       "         collect_data_since trade_on  available_amount  \\\n",
       "0 2019-02-26 00:00:00+00:00        N               0.0   \n",
       "\n",
       "                              operational_parameters  \\\n",
       "0  {'strategy': {'name': 'CrossSMA', 'parameters'...   \n",
       "\n",
       "                                            position  \n",
       "0  {'side': 'closed', 'size': 0.0, 'target_price'...  "
      ]
     },
     "execution_count": 40,
     "metadata": {},
     "output_type": "execute_result"
    }
   ],
   "source": [
    "Asset.info()"
   ]
  },
  {
   "cell_type": "code",
   "execution_count": 10,
   "metadata": {},
   "outputs": [
    {
     "data": {
      "text/plain": [
       "10"
      ]
     },
     "execution_count": 10,
     "metadata": {},
     "output_type": "execute_result"
    }
   ],
   "source": [
    "max(3,10)"
   ]
  },
  {
   "cell_type": "code",
   "execution_count": 39,
   "metadata": {},
   "outputs": [
    {
     "ename": "NameError",
     "evalue": "name 'stop' is not defined",
     "output_type": "error",
     "traceback": [
      "\u001b[0;31m---------------------------------------------------------------------------\u001b[0m",
      "\u001b[0;31mNameError\u001b[0m                                 Traceback (most recent call last)",
      "\u001b[0;32m<ipython-input-39-4f76a9dad686>\u001b[0m in \u001b[0;36m<module>\u001b[0;34m\u001b[0m\n\u001b[0;32m----> 1\u001b[0;31m \u001b[0mstop\u001b[0m\u001b[0;34m\u001b[0m\u001b[0;34m\u001b[0m\u001b[0m\n\u001b[0m",
      "\u001b[0;31mNameError\u001b[0m: name 'stop' is not defined"
     ]
    }
   ],
   "source": [
    "stop"
   ]
  },
  {
   "cell_type": "code",
   "execution_count": 43,
   "metadata": {},
   "outputs": [
    {
     "data": {
      "text/plain": [
       "{'strategy': {'name': 'CrossSMA', 'parameters': {'number_samples': [3, 100]}},\n",
       " 'stop_loss': {'name': 'Default',\n",
       "  'parameters': {'first_trigger': [1, 3, 10], 'second_trigger': [1, 16, 50]}},\n",
       " 'price_source': 'ohlc4',\n",
       " 'sleep_duration': 65,\n",
       " 'candle_interval': '12h'}"
      ]
     },
     "execution_count": 43,
     "metadata": {},
     "output_type": "execute_result"
    }
   ],
   "source": [
    "op_param"
   ]
  },
  {
   "cell_type": "code",
   "execution_count": null,
   "metadata": {},
   "outputs": [],
   "source": []
  },
  {
   "cell_type": "code",
   "execution_count": null,
   "metadata": {},
   "outputs": [],
   "source": []
  },
  {
   "cell_type": "code",
   "execution_count": null,
   "metadata": {},
   "outputs": [],
   "source": []
  },
  {
   "cell_type": "markdown",
   "metadata": {},
   "source": [
    "# Deprecated"
   ]
  },
  {
   "cell_type": "code",
   "execution_count": null,
   "metadata": {},
   "outputs": [],
   "source": [
    "import pandas as pd\n",
    "\n",
    "class RealTradingKlines:\n",
    "    \n",
    "    def __init__(self, KlineHandler, asset_symbol, candle_interval, number_of_candles):\n",
    "        \n",
    "        self.asset_symbol = asset_symbol\n",
    "        self.candle_interval = candle_interval\n",
    "        self.number_of_candles = number_of_candles\n",
    "        self.klines = pd.DataFrame()\n",
    "        self.KlinesHandler = KlinesHandler\n",
    "        \n",
    "    def update(self):\n",
    "        \n",
    "        if (len(self.klines) == 0):\n",
    "            \n",
    "            self.klines = self.KlinesHandler.get_latest(self.asset_symbol,\n",
    "                                                        self.candle_interval,\n",
    "                                                        self.number_of_candles)\n",
    "        else:\n",
    "            \n",
    "            new_line = self.KlinesHandler.get_latest(self.asset_symbol, \n",
    "                                                     self.candle_interval,\n",
    "                                                     1)\n",
    "            \n",
    "            self.klines = self.klines.append(new_line, ignore_index=True)\n",
    "        \n",
    "        return self.klines"
   ]
  },
  {
   "cell_type": "code",
   "execution_count": null,
   "metadata": {},
   "outputs": [],
   "source": [
    "KlinesHandler = locate('modules.klines_handler.' + exchange_name.capitalize() \n",
    "                       + 'FromDb')(DB_USER, DB_PASSWORD, DB_HOST, DB_PORT, DB_NAME)\n",
    "\n",
    "Klines = RealTradingKlines(KlinesHandler, asset_symbol, '1m', 100)"
   ]
  },
  {
   "cell_type": "code",
   "execution_count": null,
   "metadata": {},
   "outputs": [],
   "source": [
    "Klines.update()"
   ]
  },
  {
   "cell_type": "code",
   "execution_count": null,
   "metadata": {},
   "outputs": [],
   "source": []
  },
  {
   "cell_type": "code",
   "execution_count": null,
   "metadata": {},
   "outputs": [],
   "source": []
  },
  {
   "cell_type": "code",
   "execution_count": null,
   "metadata": {},
   "outputs": [],
   "source": [
    "KlinesHandler = locate('modules.klines_handler.' + exchange_name.capitalize() \n",
    "                       + 'FromDb')(DB_USER, DB_PASSWORD, DB_HOST, DB_PORT, DB_NAME)"
   ]
  },
  {
   "cell_type": "code",
   "execution_count": null,
   "metadata": {},
   "outputs": [],
   "source": [
    "base_klines = KlinesHandler.get_latest(asset_symbol, '1m', 100)"
   ]
  },
  {
   "cell_type": "code",
   "execution_count": null,
   "metadata": {},
   "outputs": [],
   "source": [
    "base_klines.iloc[len(base_klines) - 1]"
   ]
  },
  {
   "cell_type": "code",
   "execution_count": null,
   "metadata": {},
   "outputs": [],
   "source": [
    "base_klines"
   ]
  },
  {
   "cell_type": "code",
   "execution_count": null,
   "metadata": {},
   "outputs": [],
   "source": []
  },
  {
   "cell_type": "code",
   "execution_count": null,
   "metadata": {},
   "outputs": [],
   "source": [
    "last_klines = KlinesHandler.get_latest(asset_symbol, '1m', 1) "
   ]
  },
  {
   "cell_type": "code",
   "execution_count": null,
   "metadata": {},
   "outputs": [],
   "source": [
    "last_klines.iloc[0].open_time"
   ]
  },
  {
   "cell_type": "code",
   "execution_count": null,
   "metadata": {},
   "outputs": [],
   "source": [
    "from datetime import datetime\n",
    "\n",
    "number_of_new_samples = (((datetime.utcnow() - last_klines.iloc[0].open_time)).components.minutes)"
   ]
  },
  {
   "cell_type": "code",
   "execution_count": null,
   "metadata": {},
   "outputs": [],
   "source": [
    "number_of_new_samples"
   ]
  },
  {
   "cell_type": "code",
   "execution_count": null,
   "metadata": {},
   "outputs": [],
   "source": [
    "last_klines = KlinesHandler.get_latest(asset_symbol, '1m', number_of_new_samples) "
   ]
  },
  {
   "cell_type": "code",
   "execution_count": null,
   "metadata": {},
   "outputs": [],
   "source": [
    "last_klines"
   ]
  },
  {
   "cell_type": "code",
   "execution_count": null,
   "metadata": {},
   "outputs": [],
   "source": []
  },
  {
   "cell_type": "code",
   "execution_count": null,
   "metadata": {},
   "outputs": [],
   "source": []
  },
  {
   "cell_type": "code",
   "execution_count": null,
   "metadata": {},
   "outputs": [],
   "source": []
  },
  {
   "cell_type": "code",
   "execution_count": null,
   "metadata": {},
   "outputs": [],
   "source": [
    "base_klines.iloc[len(base_klines) - 1].equals(last_klines.iloc[0])"
   ]
  },
  {
   "cell_type": "code",
   "execution_count": null,
   "metadata": {},
   "outputs": [],
   "source": []
  },
  {
   "cell_type": "code",
   "execution_count": null,
   "metadata": {},
   "outputs": [],
   "source": []
  }
 ],
 "metadata": {
  "kernelspec": {
   "display_name": "trader",
   "language": "python",
   "name": "trader"
  },
  "language_info": {
   "codemirror_mode": {
    "name": "ipython",
    "version": 3
   },
   "file_extension": ".py",
   "mimetype": "text/x-python",
   "name": "python",
   "nbconvert_exporter": "python",
   "pygments_lexer": "ipython3",
   "version": "3.8.1"
  }
 },
 "nbformat": 4,
 "nbformat_minor": 4
}
