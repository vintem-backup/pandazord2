{
 "cells": [
  {
   "cell_type": "markdown",
   "metadata": {},
   "source": [
    "# Trader\n",
    "\n",
    "## Real\n",
    "\n",
    "1 - Pergunta à estratégia quantas amostras, de qual 'candle_interval', no mínimo, são necessárias para o cálculo da posição\n",
    "\n",
    "2 - Solicita as klines correspondentes\n",
    "\n",
    "3 - Envia as klines e o 'Asset.info()' ao módulo de estratégia para análise, recolhendo o sinal correspondente\n",
    "\n",
    "4 - Para sinal diferente de 'hold', aciona o 'order_handler'\n",
    "\n",
    "5 - Dorme\n",
    "\n",
    "6 - 'Refresca' as klines\n",
    "\n",
    "7 - Repete a partir do passo 3\n",
    "\n",
    "## Backing Test\n",
    "\n",
    "1 - Pede todas as klines\n",
    "\n",
    "2 - Pergunta à estratégia quantas amostras, de qual 'candle_interval', no mínimo, são necessárias para o cálculo da posição\n",
    "\n",
    "3 - Envia a fatia (suficientemente longa) de klines mais antiga e o 'Asset.info()' ao módulo de estratégia para análise, recolhendo o sinal correspondente\n",
    "\n",
    "4 - Para sinal diferente de 'hold' procede a 'ordem fictícia'\n",
    "\n",
    "5 - 'Avança uma' kline, 'refrescando' a fatia\n",
    "\n",
    "6 - Repete a partir do passo 3\n",
    "\n",
    "## Observações\n",
    "\n",
    "1 - É a estratégia que instancia o stop  \n",
    "2 - Existe um problema, ainda sem causa descoberta: o módulo 'klines_handler' está retornando uma kline a menos  \n",
    "    \n",
    "    2.1 - Solução sugerida:  \n",
    "    \n",
    "    Em OneMinuteCandlesAmount.total(self, out_candle_number), 'pedir um out_candle_number a mais, truncando em \n",
    "    'get_latest' para o número de candles desejado"
   ]
  },
  {
   "cell_type": "code",
   "execution_count": 1,
   "metadata": {},
   "outputs": [],
   "source": [
    "from modules.assets_handler import AssetsHandler\n",
    "from pydoc import locate\n",
    "import time\n",
    "\n",
    "##Database credentials\n",
    "DB_HOST = 'localhost'\n",
    "DB_PORT = 5432\n",
    "DB_NAME = 'pandazord_database'                      \n",
    "DB_USER = 'pandazord'\n",
    "DB_PASSWORD = 'QBBV9E%pcYKHUcjj'\n",
    "\n",
    "## Market and Asset\n",
    "exchange_name = 'binance'\n",
    "asset_symbol = 'BTCUSDT'"
   ]
  },
  {
   "cell_type": "code",
   "execution_count": 2,
   "metadata": {},
   "outputs": [],
   "source": [
    "Asset = AssetsHandler(DB_USER, DB_PASSWORD, DB_HOST, DB_PORT, DB_NAME, exchange_name, asset_symbol)\n",
    "op_param = Asset.info().iloc[0].operational_parameters"
   ]
  },
  {
   "cell_type": "code",
   "execution_count": 3,
   "metadata": {},
   "outputs": [],
   "source": [
    "strategy_name = op_param['strategy']['name']\n",
    "stop_name = op_param['stop_loss']['name']\n",
    "\n",
    "Strategy = locate('modules.strategies.' + strategy_name)(op_param)\n",
    "StopLoss = locate('modules.stop_loss.' + stop_name)(op_param)\n",
    "OrderHandler = locate('modules.order_handler' + exchange_name.capitalize() + 'Handler')\n",
    "KlinesHandler = locate('modules.klines_handler.' + exchange_name.capitalize() \n",
    "                       + 'FromDb')(DB_USER, DB_PASSWORD, DB_HOST, DB_PORT, DB_NAME)"
   ]
  },
  {
   "cell_type": "code",
   "execution_count": null,
   "metadata": {},
   "outputs": [],
   "source": [
    "# Ação do trader por ciclo (real)\n",
    "\n",
    "## A fim de mudar em tempo de execução, estes parâmetros devem vir após o 'while true'\n",
    "n_candles_to_stop_analisys = StopLoss.how_many_candles()\n",
    "n_candles_to_strategy_analisys = Strategy.how_many_candles()\n",
    "\n",
    "#while true\n",
    "\n",
    "sleep_time = op_param['sleep_duration'] #Obrigatoriamente deve ser lido em cada ciclo, já que pode mudar de valor\n",
    "                                        #em caso de estar posicionado\n",
    "is_positioned = bool(Asset.info().position.iloc[0]['side'] != 'closed')\n",
    "\n",
    "if (is_positioned):\n",
    "    \n",
    "    sleep_time = (60 - int(datetime.now().second))\n",
    "    klines_to_stop_analisys = KlinesHandler.get_latest(asset_symbol, \n",
    "                                                       candle_interval='1m', \n",
    "                                                       number_of_candles=n_candles_to_stop_analisys)\n",
    "    \n",
    "    stop = StopLoss.verify(klines_to_stop_analisys, Asset.info().position)\n",
    "    \n",
    "    if (stop.is_true):\n",
    "        \n",
    "        order = OrderHandler.execute(stop)\n",
    "        time.sleep(10)\n",
    "        order_confirmation = OrderHandler.check(order)\n",
    "        Asset.update_position(order_confirmation)\n",
    "\n",
    "klines_to_strategy_analisys = KlinesHandler.get_latest(asset_symbol, \n",
    "                                                       candle_interval=op_param['candle_interval'], \n",
    "                                                       number_of_candles=n_candles_to_strategy_analisys)\n",
    "\n",
    "#side, leverage = Strategy.what_side_and_leverage(klines_to_strategy_analisys)\n",
    "trade = Strategy.verify(klines_to_strategy_analisys, Asset.info().position)\n",
    "\n",
    "if (trade.is_true):\n",
    "\n",
    "    order = OrderHandler.execute(trade)\n",
    "    time.sleep(10)\n",
    "    order_confirmation = OrderHandler.check(order)\n",
    "    Asset.update_position(order_confirmation)\n",
    "\n",
    "time.sleep(sleep_time - int(datetime.now().second))"
   ]
  },
  {
   "cell_type": "code",
   "execution_count": 12,
   "metadata": {},
   "outputs": [
    {
     "name": "stdout",
     "output_type": "stream",
     "text": [
      "100\n"
     ]
    }
   ],
   "source": [
    "# Teste estratégia\n",
    "\n",
    "n_candles_to_strategy_analisys = Strategy.how_many_candles()\n",
    "\n",
    "klines_to_strategy_analisys = KlinesHandler.get_latest(asset_symbol, \n",
    "                                                       candle_interval=op_param['candle_interval'], \n",
    "                                                       number_of_candles=n_candles_to_strategy_analisys)\n",
    "\n",
    "\n",
    "print(n_candles_to_strategy_analisys)\n",
    "\n",
    "#side, leverage = Strategy.what_side_and_leverage(klines_to_strategy_analisys)\n",
    "trade = Strategy.verify(klines_to_strategy_analisys, Asset.info().position)"
   ]
  },
  {
   "cell_type": "code",
   "execution_count": 13,
   "metadata": {},
   "outputs": [
    {
     "data": {
      "text/plain": [
       "'closed'"
      ]
     },
     "execution_count": 13,
     "metadata": {},
     "output_type": "execute_result"
    }
   ],
   "source": [
    "Asset.info().position.iloc[0]['side']"
   ]
  },
  {
   "cell_type": "code",
   "execution_count": 14,
   "metadata": {},
   "outputs": [
    {
     "data": {
      "text/plain": [
       "('short', 1.0)"
      ]
     },
     "execution_count": 14,
     "metadata": {},
     "output_type": "execute_result"
    }
   ],
   "source": [
    "Strategy.what_side_and_leverage(klines_to_strategy_analisys)"
   ]
  },
  {
   "cell_type": "code",
   "execution_count": 15,
   "metadata": {},
   "outputs": [
    {
     "data": {
      "text/plain": [
       "False"
      ]
     },
     "execution_count": 15,
     "metadata": {},
     "output_type": "execute_result"
    }
   ],
   "source": [
    "trade.is_true"
   ]
  },
  {
   "cell_type": "code",
   "execution_count": 16,
   "metadata": {},
   "outputs": [
    {
     "data": {
      "text/plain": [
       "'hold'"
      ]
     },
     "execution_count": 16,
     "metadata": {},
     "output_type": "execute_result"
    }
   ],
   "source": [
    "trade.command"
   ]
  },
  {
   "cell_type": "code",
   "execution_count": 17,
   "metadata": {},
   "outputs": [
    {
     "data": {
      "text/plain": [
       "1.0"
      ]
     },
     "execution_count": 17,
     "metadata": {},
     "output_type": "execute_result"
    }
   ],
   "source": [
    "trade.leverage"
   ]
  },
  {
   "cell_type": "code",
   "execution_count": null,
   "metadata": {},
   "outputs": [],
   "source": []
  },
  {
   "cell_type": "code",
   "execution_count": null,
   "metadata": {},
   "outputs": [],
   "source": [
    "klines_to_strategy_analisys"
   ]
  },
  {
   "cell_type": "code",
   "execution_count": null,
   "metadata": {},
   "outputs": [],
   "source": []
  },
  {
   "cell_type": "code",
   "execution_count": null,
   "metadata": {},
   "outputs": [],
   "source": [
    "trade = Trade(Asset.info().position, 'closed')"
   ]
  },
  {
   "cell_type": "code",
   "execution_count": null,
   "metadata": {},
   "outputs": [],
   "source": [
    "trade.is_true"
   ]
  },
  {
   "cell_type": "code",
   "execution_count": null,
   "metadata": {},
   "outputs": [],
   "source": [
    "Asset.info().position"
   ]
  },
  {
   "cell_type": "code",
   "execution_count": null,
   "metadata": {},
   "outputs": [],
   "source": [
    "Asset.info()"
   ]
  },
  {
   "cell_type": "code",
   "execution_count": null,
   "metadata": {},
   "outputs": [],
   "source": []
  },
  {
   "cell_type": "code",
   "execution_count": null,
   "metadata": {},
   "outputs": [],
   "source": []
  },
  {
   "cell_type": "code",
   "execution_count": null,
   "metadata": {},
   "outputs": [],
   "source": []
  },
  {
   "cell_type": "code",
   "execution_count": null,
   "metadata": {},
   "outputs": [],
   "source": [
    "op_param['sleep_duration']"
   ]
  },
  {
   "cell_type": "code",
   "execution_count": null,
   "metadata": {},
   "outputs": [],
   "source": [
    "is_positioned = bool(Asset.info().position.iloc[0]['side'] != 'closed')"
   ]
  },
  {
   "cell_type": "code",
   "execution_count": null,
   "metadata": {},
   "outputs": [],
   "source": [
    "is_positioned"
   ]
  },
  {
   "cell_type": "code",
   "execution_count": null,
   "metadata": {},
   "outputs": [],
   "source": [
    "Asset.info()"
   ]
  },
  {
   "cell_type": "code",
   "execution_count": null,
   "metadata": {},
   "outputs": [],
   "source": [
    "max(3,10)"
   ]
  },
  {
   "cell_type": "code",
   "execution_count": null,
   "metadata": {},
   "outputs": [],
   "source": [
    "stop"
   ]
  },
  {
   "cell_type": "code",
   "execution_count": null,
   "metadata": {},
   "outputs": [],
   "source": [
    "KlinesHandler = locate('modules.klines_handler.' + exchange_name.capitalize() \n",
    "                       + 'FromDb')(DB_USER, DB_PASSWORD, DB_HOST, DB_PORT, DB_NAME)"
   ]
  },
  {
   "cell_type": "code",
   "execution_count": null,
   "metadata": {},
   "outputs": [],
   "source": [
    "KlinesHandler.get_latest(asset_symbol, '2h', 100)"
   ]
  },
  {
   "cell_type": "code",
   "execution_count": null,
   "metadata": {},
   "outputs": [],
   "source": []
  },
  {
   "cell_type": "code",
   "execution_count": null,
   "metadata": {},
   "outputs": [],
   "source": []
  },
  {
   "cell_type": "markdown",
   "metadata": {},
   "source": [
    "# Deprecated"
   ]
  },
  {
   "cell_type": "code",
   "execution_count": null,
   "metadata": {},
   "outputs": [],
   "source": [
    "import pandas as pd\n",
    "\n",
    "class RealTradingKlines:\n",
    "    \n",
    "    def __init__(self, KlineHandler, asset_symbol, candle_interval, number_of_candles):\n",
    "        \n",
    "        self.asset_symbol = asset_symbol\n",
    "        self.candle_interval = candle_interval\n",
    "        self.number_of_candles = number_of_candles\n",
    "        self.klines = pd.DataFrame()\n",
    "        self.KlinesHandler = KlinesHandler\n",
    "        \n",
    "    def update(self):\n",
    "        \n",
    "        if (len(self.klines) == 0):\n",
    "            \n",
    "            self.klines = self.KlinesHandler.get_latest(self.asset_symbol,\n",
    "                                                        self.candle_interval,\n",
    "                                                        self.number_of_candles)\n",
    "        else:\n",
    "            \n",
    "            new_line = self.KlinesHandler.get_latest(self.asset_symbol, \n",
    "                                                     self.candle_interval,\n",
    "                                                     1)\n",
    "            \n",
    "            self.klines = self.klines.append(new_line, ignore_index=True)\n",
    "        \n",
    "        return self.klines"
   ]
  },
  {
   "cell_type": "code",
   "execution_count": null,
   "metadata": {},
   "outputs": [],
   "source": [
    "KlinesHandler = locate('modules.klines_handler.' + exchange_name.capitalize() \n",
    "                       + 'FromDb')(DB_USER, DB_PASSWORD, DB_HOST, DB_PORT, DB_NAME)\n",
    "\n",
    "Klines = RealTradingKlines(KlinesHandler, asset_symbol, '1m', 100)"
   ]
  },
  {
   "cell_type": "code",
   "execution_count": null,
   "metadata": {},
   "outputs": [],
   "source": [
    "Klines.update()"
   ]
  },
  {
   "cell_type": "code",
   "execution_count": null,
   "metadata": {},
   "outputs": [],
   "source": []
  },
  {
   "cell_type": "code",
   "execution_count": null,
   "metadata": {},
   "outputs": [],
   "source": []
  },
  {
   "cell_type": "code",
   "execution_count": null,
   "metadata": {},
   "outputs": [],
   "source": [
    "KlinesHandler = locate('modules.klines_handler.' + exchange_name.capitalize() \n",
    "                       + 'FromDb')(DB_USER, DB_PASSWORD, DB_HOST, DB_PORT, DB_NAME)"
   ]
  },
  {
   "cell_type": "code",
   "execution_count": null,
   "metadata": {},
   "outputs": [],
   "source": [
    "base_klines = KlinesHandler.get_latest(asset_symbol, '1m', 100)"
   ]
  },
  {
   "cell_type": "code",
   "execution_count": null,
   "metadata": {},
   "outputs": [],
   "source": [
    "base_klines.iloc[len(base_klines) - 1]"
   ]
  },
  {
   "cell_type": "code",
   "execution_count": null,
   "metadata": {},
   "outputs": [],
   "source": [
    "base_klines"
   ]
  },
  {
   "cell_type": "code",
   "execution_count": null,
   "metadata": {},
   "outputs": [],
   "source": []
  },
  {
   "cell_type": "code",
   "execution_count": null,
   "metadata": {},
   "outputs": [],
   "source": [
    "last_klines = KlinesHandler.get_latest(asset_symbol, '1m', 1) "
   ]
  },
  {
   "cell_type": "code",
   "execution_count": null,
   "metadata": {},
   "outputs": [],
   "source": [
    "last_klines.iloc[0].open_time"
   ]
  },
  {
   "cell_type": "code",
   "execution_count": null,
   "metadata": {},
   "outputs": [],
   "source": [
    "from datetime import datetime\n",
    "\n",
    "number_of_new_samples = (((datetime.utcnow() - last_klines.iloc[0].open_time)).components.minutes)"
   ]
  },
  {
   "cell_type": "code",
   "execution_count": null,
   "metadata": {},
   "outputs": [],
   "source": [
    "number_of_new_samples"
   ]
  },
  {
   "cell_type": "code",
   "execution_count": null,
   "metadata": {},
   "outputs": [],
   "source": [
    "last_klines = KlinesHandler.get_latest(asset_symbol, '1m', number_of_new_samples) "
   ]
  },
  {
   "cell_type": "code",
   "execution_count": null,
   "metadata": {},
   "outputs": [],
   "source": [
    "last_klines"
   ]
  },
  {
   "cell_type": "code",
   "execution_count": null,
   "metadata": {},
   "outputs": [],
   "source": []
  },
  {
   "cell_type": "code",
   "execution_count": null,
   "metadata": {},
   "outputs": [],
   "source": []
  },
  {
   "cell_type": "code",
   "execution_count": null,
   "metadata": {},
   "outputs": [],
   "source": []
  },
  {
   "cell_type": "code",
   "execution_count": null,
   "metadata": {},
   "outputs": [],
   "source": [
    "base_klines.iloc[len(base_klines) - 1].equals(last_klines.iloc[0])"
   ]
  },
  {
   "cell_type": "code",
   "execution_count": null,
   "metadata": {},
   "outputs": [],
   "source": []
  },
  {
   "cell_type": "code",
   "execution_count": null,
   "metadata": {},
   "outputs": [],
   "source": []
  }
 ],
 "metadata": {
  "kernelspec": {
   "display_name": "trader",
   "language": "python",
   "name": "trader"
  },
  "language_info": {
   "codemirror_mode": {
    "name": "ipython",
    "version": 3
   },
   "file_extension": ".py",
   "mimetype": "text/x-python",
   "name": "python",
   "nbconvert_exporter": "python",
   "pygments_lexer": "ipython3",
   "version": "3.8.1"
  }
 },
 "nbformat": 4,
 "nbformat_minor": 4
}
