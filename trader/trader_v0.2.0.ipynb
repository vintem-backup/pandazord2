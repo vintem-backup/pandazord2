{
 "cells": [
  {
   "cell_type": "code",
   "execution_count": null,
   "metadata": {},
   "outputs": [],
   "source": []
  },
  {
   "cell_type": "code",
   "execution_count": 81,
   "metadata": {},
   "outputs": [],
   "source": [
    "#Trader v0.2.0\n",
    "from modules.assets_handler import *\n",
    "from pydoc import locate\n",
    "from modules.klines_handler import OneMinuteCandlesAmount as OMCA, Transform\n",
    "\n",
    "class Trader:\n",
    "    # Common instantiation, trader and backing test\n",
    "    def __init__(self, exchange_name, asset_symbol):\n",
    "        # Asset Stuff\n",
    "        self.exchange_name = exchange_name\n",
    "        self.asset_symbol = asset_symbol\n",
    "        self.Asset = AssetsHandler(exchange_name, asset_symbol)\n",
    "        # Strategy\n",
    "        self.strategy_name = self.Asset.operational_parameters()['strategy']['name']\n",
    "        self.strategy_param = self.Asset.operational_parameters()['strategy']['parameters']\n",
    "        self.strat_candle_interval = self.strategy_param['candle_intervalerval']\n",
    "        self.Strategy = locate('modules.strategies.' + self.strategy_name)(self.strategy_param)        \n",
    "        self.StrategyCandlesNum = self.Strategy.how_many_candles()        \n",
    "        # Stop Loss\n",
    "        self.stop_name = self.Asset.operational_parameters()['stop_loss']['name']\n",
    "        self.stop_param = self.Asset.operational_parameters()['stop_loss']['parameters']\n",
    "        self.stop_candle_interval = self.stop_param['candle_intervalerval']\n",
    "        self.StopLoss = locate('modules.stop_loss.' + self.stop_name)(self.stop_param)\n",
    "        self.StopCandlesNum = self.StopLoss.how_many_candles()\n",
    "        # Order Handler (broker)\n",
    "        self.OrderHandler = locate('modules.order_handler' + exchange_name.capitalize() + 'Handler')\n",
    "        # Klines Handler\n",
    "        self.KlinesHandler = locate('modules.klines_handler.' + exchange_name.capitalize() + 'FromDb')()\n",
    "        \n",
    "    def for_real(self):\n",
    "        self.position = RealTradePosition(self.Asset.get_dataframe().iloc[0].position)\n",
    "    \n",
    "    def backing_test(self):\n",
    "        self.position = BackingTestAssetPosition({'side': 'closed', 'size': 0.0, 'target_price': 0.0})\n",
    "        all_1m_klines = self.KlinesHandler.all_latest_one_minute(self.asset_symbol)\n",
    "        #TODO: Verificar se os tamanhos das 'slices' são menores que o número de klines de 1m\n",
    "        strategy_1m_slice = OMCA(self.strat_candle_interval).total(self.StrategyCandlesNum)\n",
    "        stop_1m_slice = OMCA(self.stop_candle_interval).total(self.StopCandlesNum)\n",
    "        \n",
    "        end_index = max(strategy_1m_slice, stop_1m_slice)\n",
    "        strategy_start_index = end_index - strategy_1m_slice; stop_start_index = end_index - stop_1m_slice\n",
    "        \n",
    "        while end_index < len(all_1m_klines):\n",
    "            \n",
    "            if(position.side != 'closed'):\n",
    "                klines_to_stop_analisys = Transform(\n",
    "                    all_1m_klines[stop_start_index:end_index]).from_1m_to(self.stop_candle_interval)\n",
    "                \n",
    "                stop = StopLoss.verify(klines_to_stop_analisys, self.position)\n",
    "    \n",
    "                if (stop.is_true):\n",
    "                    order = OrderHandler.execute(stop.order)\n",
    "                    order_confirmation = OrderHandler.check(order)\n",
    "                    Asset.update_position(order_confirmation)\n",
    "    \n",
    "                if(stop.update_target): self.position.target_price = stop.new_target_price\n",
    "            \n",
    "            klines_to_strategy_analisys = Transform(\n",
    "                all_1m_klines[strategy_start_index:end_index]).from_1m_to(self.strat_candle_interval)\n",
    "\n",
    "            trade = Strategy.verify(klines_to_strategy_analisys, self.position)\n",
    "\n",
    "            if (trade.is_true):\n",
    "                order = OrderHandler.execute(trade.order)\n",
    "                order_confirmation = OrderHandler.check(order)\n",
    "                Asset.update_position(order_confirmation)\n",
    "            \n",
    "            strategy_start_index+=1; stop_start_index+=1; end_index+=1"
   ]
  },
  {
   "cell_type": "code",
   "execution_count": null,
   "metadata": {},
   "outputs": [],
   "source": [
    "#'order', tanto no stop quanto na estratégia, será um dicionário, para manter a simplicidade"
   ]
  },
  {
   "cell_type": "code",
   "execution_count": 2,
   "metadata": {},
   "outputs": [],
   "source": [
    "exchange_name, asset_symbol = 'binance', 'BTCUSDT'\n",
    "\n",
    "trader = Trader(exchange_name, asset_symbol)"
   ]
  },
  {
   "cell_type": "code",
   "execution_count": 7,
   "metadata": {},
   "outputs": [],
   "source": [
    "trader.backing_test()"
   ]
  },
  {
   "cell_type": "code",
   "execution_count": 10,
   "metadata": {},
   "outputs": [
    {
     "data": {
      "text/plain": [
       "{'side': 'closed', 'size': 0.0, 'target_price': 0.0}"
      ]
     },
     "execution_count": 10,
     "metadata": {},
     "output_type": "execute_result"
    }
   ],
   "source": [
    "trader.position.show()"
   ]
  },
  {
   "cell_type": "code",
   "execution_count": 5,
   "metadata": {},
   "outputs": [
    {
     "data": {
      "text/plain": [
       "6060"
      ]
     },
     "execution_count": 5,
     "metadata": {},
     "output_type": "execute_result"
    }
   ],
   "source": [
    "trader.strategy_1m_slice"
   ]
  },
  {
   "cell_type": "raw",
   "metadata": {},
   "source": []
  },
  {
   "cell_type": "code",
   "execution_count": null,
   "metadata": {},
   "outputs": [],
   "source": [
    "from modules.klines_handler import OneMinuteCandlesAmount, Transform\n",
    "\n",
    "n_stop = OneMinuteCandlesAmount(trader.stop_param['candle_interval']).total(trader.StopLoss.how_many_candles())"
   ]
  },
  {
   "cell_type": "code",
   "execution_count": null,
   "metadata": {},
   "outputs": [],
   "source": [
    "n_stop"
   ]
  },
  {
   "cell_type": "code",
   "execution_count": null,
   "metadata": {},
   "outputs": [],
   "source": []
  },
  {
   "cell_type": "code",
   "execution_count": null,
   "metadata": {},
   "outputs": [],
   "source": [
    "trader.Strategy.how_many_candles()"
   ]
  },
  {
   "cell_type": "code",
   "execution_count": null,
   "metadata": {},
   "outputs": [],
   "source": []
  },
  {
   "cell_type": "code",
   "execution_count": null,
   "metadata": {},
   "outputs": [],
   "source": [
    "test_klines = trader.KlinesHandler.get_latest(asset_symbol, '1m', 100)\n",
    "test_klines"
   ]
  },
  {
   "cell_type": "code",
   "execution_count": 6,
   "metadata": {},
   "outputs": [
    {
     "data": {
      "text/plain": [
       "'1m'"
      ]
     },
     "execution_count": 6,
     "metadata": {},
     "output_type": "execute_result"
    }
   ],
   "source": [
    "trader.stop_param['candle_interval']"
   ]
  },
  {
   "cell_type": "code",
   "execution_count": null,
   "metadata": {},
   "outputs": [],
   "source": [
    "from modules.klines_handler import OneMinuteCandlesAmount, Transform"
   ]
  },
  {
   "cell_type": "code",
   "execution_count": null,
   "metadata": {},
   "outputs": [],
   "source": [
    "OneMinuteCandlesAmount('1h').total(100)"
   ]
  },
  {
   "cell_type": "code",
   "execution_count": null,
   "metadata": {},
   "outputs": [],
   "source": [
    "trader.Asset.get_dataframe().iloc[0].position"
   ]
  },
  {
   "cell_type": "code",
   "execution_count": null,
   "metadata": {},
   "outputs": [],
   "source": [
    "trader.backing_test()"
   ]
  },
  {
   "cell_type": "code",
   "execution_count": null,
   "metadata": {},
   "outputs": [],
   "source": [
    "StopCandlesNum = 'test'\n",
    "StrategyCandlesNum\n",
    "n_candles_to_stop_analisys = "
   ]
  },
  {
   "cell_type": "code",
   "execution_count": null,
   "metadata": {},
   "outputs": [],
   "source": [
    "trader.KlinesHandler.all_latest_one_minute"
   ]
  },
  {
   "cell_type": "code",
   "execution_count": 29,
   "metadata": {},
   "outputs": [],
   "source": [
    "class Myclass:\n",
    "    def __init__(self):\n",
    "        self.my_name_is = self.__class__.__name__\n",
    "    \n",
    "    def who_amn_i(self):\n",
    "        print('hello',self.my_name_is)"
   ]
  },
  {
   "cell_type": "code",
   "execution_count": 30,
   "metadata": {},
   "outputs": [
    {
     "name": "stdout",
     "output_type": "stream",
     "text": [
      "hello Myclass\n"
     ]
    }
   ],
   "source": [
    "Myclass().who_amn_i()"
   ]
  },
  {
   "cell_type": "code",
   "execution_count": 17,
   "metadata": {},
   "outputs": [
    {
     "name": "stdout",
     "output_type": "stream",
     "text": [
      "hello marcus\n"
     ]
    }
   ],
   "source": [
    "some_function('marcus')"
   ]
  },
  {
   "cell_type": "code",
   "execution_count": 19,
   "metadata": {},
   "outputs": [
    {
     "data": {
      "text/plain": [
       "'my_function'"
      ]
     },
     "execution_count": 19,
     "metadata": {},
     "output_type": "execute_result"
    }
   ],
   "source": [
    "my_function.__name__"
   ]
  },
  {
   "cell_type": "code",
   "execution_count": 20,
   "metadata": {},
   "outputs": [
    {
     "ename": "NameError",
     "evalue": "name 'marcus' is not defined",
     "output_type": "error",
     "traceback": [
      "\u001b[0;31m---------------------------------------------------------------------------\u001b[0m",
      "\u001b[0;31mNameError\u001b[0m                                 Traceback (most recent call last)",
      "\u001b[0;32m<ipython-input-20-1989fd8ca807>\u001b[0m in \u001b[0;36m<module>\u001b[0;34m\u001b[0m\n\u001b[0;32m----> 1\u001b[0;31m \u001b[0mmarcus\u001b[0m\u001b[0;34m.\u001b[0m\u001b[0m__name__\u001b[0m\u001b[0;34m\u001b[0m\u001b[0;34m\u001b[0m\u001b[0m\n\u001b[0m",
      "\u001b[0;31mNameError\u001b[0m: name 'marcus' is not defined"
     ]
    }
   ],
   "source": [
    "marcus.__name__"
   ]
  },
  {
   "cell_type": "code",
   "execution_count": 77,
   "metadata": {},
   "outputs": [],
   "source": [
    "class Outer:\n",
    "    \n",
    "    def __init__(Out, param_to_outer):\n",
    "        Out.param_to_outer = param_to_outer\n",
    "    \n",
    "    def print_outer_exclusive(Out):\n",
    "        print('Hy, im outer', Out.param_to_outer)\n",
    "    \n",
    "    class Inner(Outer):\n",
    "        \n",
    "        def __init__(self, param_to_inner):\n",
    "            self.param_to_inner = param_to_inner\n",
    "        \n",
    "        def print_inner_exclusive(self):\n",
    "            print('Hy, im inner', self.param_to_inner)\n",
    "        \n",
    "        def print_out_and_inner(self):\n",
    "            print('Hy, im double printer. This is the inner arg: {}, and this is the out arg {}'.format(\n",
    "            self.param_to_inner, Outer('test').print_outer_exclusive()))"
   ]
  },
  {
   "cell_type": "code",
   "execution_count": 78,
   "metadata": {},
   "outputs": [
    {
     "name": "stdout",
     "output_type": "stream",
     "text": [
      "Hy, im outer olá\n"
     ]
    }
   ],
   "source": [
    "Outer('olá').print_outer_exclusive()"
   ]
  },
  {
   "cell_type": "code",
   "execution_count": 79,
   "metadata": {},
   "outputs": [
    {
     "name": "stdout",
     "output_type": "stream",
     "text": [
      "Hy, im inner paraminner\n"
     ]
    }
   ],
   "source": [
    "Outer('olá').Inner('paraminner').print_inner_exclusive()"
   ]
  },
  {
   "cell_type": "code",
   "execution_count": 80,
   "metadata": {},
   "outputs": [
    {
     "name": "stdout",
     "output_type": "stream",
     "text": [
      "Hy, im outer test\n",
      "Hy, im double printer. This is the inner arg: paraminner, and this is the out arg None\n"
     ]
    }
   ],
   "source": [
    "Outer('olá').Inner('paraminner').print_out_and_inner()"
   ]
  },
  {
   "cell_type": "code",
   "execution_count": null,
   "metadata": {},
   "outputs": [],
   "source": []
  },
  {
   "cell_type": "code",
   "execution_count": null,
   "metadata": {},
   "outputs": [],
   "source": []
  },
  {
   "cell_type": "code",
   "execution_count": null,
   "metadata": {},
   "outputs": [],
   "source": []
  },
  {
   "cell_type": "code",
   "execution_count": null,
   "metadata": {},
   "outputs": [],
   "source": []
  }
 ],
 "metadata": {
  "kernelspec": {
   "display_name": "trader",
   "language": "python",
   "name": "trader"
  },
  "language_info": {
   "codemirror_mode": {
    "name": "ipython",
    "version": 3
   },
   "file_extension": ".py",
   "mimetype": "text/x-python",
   "name": "python",
   "nbconvert_exporter": "python",
   "pygments_lexer": "ipython3",
   "version": "3.8.1"
  }
 },
 "nbformat": 4,
 "nbformat_minor": 4
}
