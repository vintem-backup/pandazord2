{
 "cells": [
  {
   "cell_type": "code",
   "execution_count": null,
   "metadata": {},
   "outputs": [],
   "source": []
  },
  {
   "cell_type": "code",
   "execution_count": null,
   "metadata": {},
   "outputs": [],
   "source": [
    "# 1 - New Assets Handler\n",
    "\n",
    "from pgmask.dataframelayer import DataframeLayer\n",
    "from pgmask.basiclayer import BasicLayer\n",
    "\n",
    "#Production\n",
    "#POSTGRES_USER = os.environ['POSTGRES_USER']\n",
    "#POSTGRES_PASSWORD = os.environ['POSTGRES_PASSWORD']\n",
    "#DB_HOST = os.environ['DB_HOST']\n",
    "#PG_PORT = os.environ['PG_PORT']\n",
    "#POSTGRES_DB = os.environ['POSTGRES_DB']\n",
    "\n",
    "#Dev-new    \n",
    "POSTGRES_USER = 'pandazord'\n",
    "POSTGRES_PASSWORD = 'QBBV9E%pcYKHUcjj'\n",
    "DB_HOST = 'localhost'\n",
    "PG_PORT = 5432\n",
    "POSTGRES_DB = 'pandazord_database'\n",
    "\n",
    "class AssetsHandler:\n",
    "\n",
    "    def __init__(self, exchange_name, asset_symbol):\n",
    "\n",
    "        self._PGDF = DataframeLayer(POSTGRES_USER, POSTGRES_PASSWORD, DB_HOST, PG_PORT, POSTGRES_DB)\n",
    "        self._PGBL = BasicLayer(POSTGRES_USER, POSTGRES_PASSWORD, DB_HOST, PG_PORT, POSTGRES_DB)\n",
    "        self._exchange_name = exchange_name\n",
    "        self._asset_symbol = asset_symbol\n",
    "    \n",
    "    def get_dataframe(self):\n",
    "        \n",
    "        self.asset_df = self._PGDF.read_entries_list(table_name=(self._exchange_name + '_assets'),\n",
    "                                                     column_name= 'asset_symbol',\n",
    "                                                     entries_list=self._asset_symbol.split(sep=','))\n",
    "\n",
    "        return self.asset_df\n",
    "    \n",
    "    def operational_parameters(self):\n",
    "        \n",
    "        self.op_param = self.get_dataframe().iloc[0].operational_parameters\n",
    "        return self.op_param\n",
    "    \n",
    "\n",
    "class Position:\n",
    "\n",
    "    def __init__(self, current_position):\n",
    "        self._side = current_position['side']\n",
    "        self._size = current_position['size']\n",
    "        self._target_price = current_position['target_price']\n",
    "\n",
    "    @property\n",
    "    def side(self):\n",
    "        return self._side\n",
    "\n",
    "    @property\n",
    "    def size(self):\n",
    "        return self._size\n",
    "\n",
    "    @property\n",
    "    def target_price(self):\n",
    "        return self._target_price\n",
    "\n",
    "    @side.setter\n",
    "    def side(self, side_to_set):\n",
    "        side_list = ['closed', 'long', 'short']\n",
    "        error_message = 'Incorrect! Side must be '\n",
    "        error_append = ''\n",
    "\n",
    "        if (side_to_set not in side_list):\n",
    "            for item in side_list[:-1]:\n",
    "                error_append+= \"'\" + item + \"'\" + ', '\n",
    "\n",
    "            error_message = error_message + error_append + 'or ' + \"'\" + side_list[-1] + \"'\" + '.'\n",
    "\n",
    "            print(error_message) #TODO: Tratar exceção sem print\n",
    "        else:\n",
    "            self._side = side_to_set\n",
    "\n",
    "    @size.setter\n",
    "    def size(self, size_to_set):\n",
    "        numerical = (isinstance(size_to_set, float) or isinstance(size_to_set, int))\n",
    "\n",
    "        if (numerical):\n",
    "            if (size_to_set < 0.0):\n",
    "                print ('Invalid. Size must not be negative.') #TODO: Tratar exceção sem print\n",
    "\n",
    "            else:\n",
    "                self._size = size_to_set\n",
    "\n",
    "        else:\n",
    "            print(\"Invalid. Must be a numerical ('float' or 'int') type.\" ) #TODO: Tratar exceção sem print\n",
    "\n",
    "    @target_price.setter\n",
    "    def target_price(self, target_price_to_set):\n",
    "        numerical = (isinstance(target_price_to_set, float) or isinstance(target_price_to_set, int)) \n",
    "\n",
    "        if (numerical):\n",
    "            if (target_price_to_set < 0.0):\n",
    "                print ('Invalid. Target price must not be negative.') #TODO: Tratar exceção sem print\n",
    "\n",
    "            else:\n",
    "                self._target_price = target_price_to_set\n",
    "\n",
    "        else:\n",
    "            print(\"Invalid. Must be a numerical ('float' or 'int') type.\" ) #TODO: Tratar exceção sem print\n",
    "\n",
    "class BackingTestAssetPosition(Position):\n",
    "    pass\n",
    "\n",
    "class RealTradePosition(Position):\n",
    "    pass\n",
    "\n",
    "    #TODO: Atualizar este método\n",
    "    #Por se tratar de um objeto json, possivelmente terá dde ser todo carregado e atualizado \n",
    "    #apenas o valor da chave desejada. Como fazer isto de modo \"DRY\", para qualquer chave dada?\n",
    "    def update_position(self, field, update_to):\n",
    "\n",
    "        update_status = self.PGBL.update_entry(table_name = self.exchange_name + '_assets', \n",
    "        pk_field = 'asset_symbol', \n",
    "        pk_value = self.asset_symbol, \n",
    "        field_to_update = field, \n",
    "        new_field_value = update_to)\n",
    "\n",
    "        return update_status"
   ]
  },
  {
   "cell_type": "code",
   "execution_count": null,
   "metadata": {},
   "outputs": [],
   "source": [
    "#Trader v0.2.0\n",
    "#from modules.assets_handler import AssetsHandler\n",
    "from pydoc import locate\n",
    "\n",
    "class Trader:\n",
    "    ## Common instantiation, trader and backing test\n",
    "    def __init__(self, exchange_name, asset_symbol):\n",
    "        \n",
    "        self.Asset = AssetsHandler(exchange_name, asset_symbol)\n",
    "        self.strategy_param = self.Asset.operational_parameters()['strategy']['parameters']\n",
    "        self.stop_param = self.Asset.operational_parameters()['stop_loss']['parameters']\n",
    "        strategy_name = self.Asset.operational_parameters()['strategy']['name']\n",
    "        stop_name = self.Asset.operational_parameters()['stop_loss']['name']\n",
    "        self.Strategy = locate('modules.strategies.' + strategy_name)(strategy_param)\n",
    "        self.StopLoss = locate('modules.stop_loss.' + stop_name)(stop_param)\n",
    "        self.OrderHandler = locate('modules.order_handler' + exchange_name.capitalize() + 'Handler')\n",
    "        self.KlinesHandler = locate('modules.klines_handler.' + exchange_name.capitalize() + 'FromDb')()\n",
    "        \n",
    "    def for_real(self):\n",
    "        pass\n",
    "    \n",
    "    def backing_test(self):\n",
    "        pass\n",
    "        "
   ]
  },
  {
   "cell_type": "code",
   "execution_count": null,
   "metadata": {},
   "outputs": [],
   "source": [
    "#Testing Klines_handler\n",
    "from pydoc import locate\n",
    "\n",
    "exchange_name, asset_symbol = 'binance', 'BTCUSDT'\n",
    "\n",
    "KlinesHandler = locate('modules.klines_handler.' + exchange_name.capitalize() + 'FromDb')()\n",
    "\n",
    "klines_to_strategy_analisys = KlinesHandler.get_latest(asset_symbol=asset_symbol, \n",
    "                                                       candle_interval='1h', \n",
    "                                                       number_of_candles=100)"
   ]
  },
  {
   "cell_type": "code",
   "execution_count": null,
   "metadata": {},
   "outputs": [],
   "source": [
    "klines_to_strategy_analisys"
   ]
  },
  {
   "cell_type": "code",
   "execution_count": null,
   "metadata": {},
   "outputs": [],
   "source": []
  },
  {
   "cell_type": "code",
   "execution_count": null,
   "metadata": {},
   "outputs": [],
   "source": [
    "asset_symbol"
   ]
  },
  {
   "cell_type": "code",
   "execution_count": null,
   "metadata": {},
   "outputs": [],
   "source": [
    "KlinesHandler().get_latest"
   ]
  },
  {
   "cell_type": "code",
   "execution_count": null,
   "metadata": {},
   "outputs": [],
   "source": [
    "KlinesHandler = locate('modules.klines_handler.' + exchange_name.capitalize() + 'FromDb')"
   ]
  },
  {
   "cell_type": "code",
   "execution_count": null,
   "metadata": {},
   "outputs": [],
   "source": [
    "KlinesHandler.all_latest_one_minute('BTCUSDT')"
   ]
  },
  {
   "cell_type": "code",
   "execution_count": null,
   "metadata": {},
   "outputs": [],
   "source": [
    "exchange_name, asset_symbol = 'binance', 'BTCUSDT'\n",
    "\n",
    "Trader(exchange_name, asset_symbol)"
   ]
  },
  {
   "cell_type": "code",
   "execution_count": null,
   "metadata": {},
   "outputs": [],
   "source": []
  },
  {
   "cell_type": "code",
   "execution_count": null,
   "metadata": {},
   "outputs": [],
   "source": [
    "exchange_name, asset_symbol = 'binance', 'BTCUSDT'"
   ]
  },
  {
   "cell_type": "code",
   "execution_count": null,
   "metadata": {},
   "outputs": [],
   "source": [
    "Asset = AssetsHandler(exchange_name, asset_symbol)"
   ]
  },
  {
   "cell_type": "code",
   "execution_count": null,
   "metadata": {},
   "outputs": [],
   "source": [
    "Asset.operational_parameters()"
   ]
  },
  {
   "cell_type": "code",
   "execution_count": null,
   "metadata": {},
   "outputs": [],
   "source": [
    "real_current_position = Asset.get_dataframe().iloc[0].position"
   ]
  },
  {
   "cell_type": "code",
   "execution_count": null,
   "metadata": {},
   "outputs": [],
   "source": [
    "bt_current_position = {'side': 'short', 'size': 0.0, 'target_price': 0.0}"
   ]
  },
  {
   "cell_type": "code",
   "execution_count": null,
   "metadata": {},
   "outputs": [],
   "source": [
    "Position = RealTradePosition(bt_current_position)"
   ]
  },
  {
   "cell_type": "code",
   "execution_count": null,
   "metadata": {},
   "outputs": [],
   "source": [
    "Position.side = 'closed'"
   ]
  },
  {
   "cell_type": "code",
   "execution_count": null,
   "metadata": {},
   "outputs": [],
   "source": [
    "Position.side"
   ]
  },
  {
   "cell_type": "code",
   "execution_count": null,
   "metadata": {},
   "outputs": [],
   "source": [
    "Asset.operational_parameters()"
   ]
  },
  {
   "cell_type": "code",
   "execution_count": null,
   "metadata": {},
   "outputs": [],
   "source": []
  },
  {
   "cell_type": "code",
   "execution_count": null,
   "metadata": {},
   "outputs": [],
   "source": []
  }
 ],
 "metadata": {
  "kernelspec": {
   "display_name": "trader",
   "language": "python",
   "name": "trader"
  },
  "language_info": {
   "codemirror_mode": {
    "name": "ipython",
    "version": 3
   },
   "file_extension": ".py",
   "mimetype": "text/x-python",
   "name": "python",
   "nbconvert_exporter": "python",
   "pygments_lexer": "ipython3",
   "version": "3.8.1"
  }
 },
 "nbformat": 4,
 "nbformat_minor": 4
}
