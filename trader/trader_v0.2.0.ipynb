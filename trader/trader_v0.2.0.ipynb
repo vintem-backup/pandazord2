{
 "cells": [
  {
   "cell_type": "code",
   "execution_count": null,
   "metadata": {},
   "outputs": [],
   "source": []
  },
  {
   "cell_type": "code",
   "execution_count": 1,
   "metadata": {},
   "outputs": [],
   "source": [
    "def verbose_klines(stage, klines):\n",
    "    print('As últimas klines para a análise de {} são:'.format(stage))\n",
    "    print(' ')\n",
    "    print(klines.tail())\n",
    "    print(' ')\n",
    "\n",
    "def verbose_position(stage, position):\n",
    "    print('A posição atual é: {}'.format(position.show()))\n",
    "    print(' ')"
   ]
  },
  {
   "cell_type": "code",
   "execution_count": 8,
   "metadata": {},
   "outputs": [],
   "source": [
    "#Trader v0.2.0\n",
    "from modules.assets_handler import *\n",
    "from pydoc import locate\n",
    "from modules.klines_handler import OneMinuteCandlesAmount as OMCA, Transform\n",
    "\n",
    "class Trader:\n",
    "    # Common instantiation, trader and backing test\n",
    "    def __init__(self, exchange_name, asset_symbol):\n",
    "        # Asset Stuff\n",
    "        self.exchange_name = exchange_name\n",
    "        self.asset_symbol = asset_symbol\n",
    "        self.Asset = AssetsHandler(exchange_name, asset_symbol)\n",
    "        # Strategy\n",
    "        self.strategy_name = self.Asset.operational_parameters()['strategy']['name']\n",
    "        self.strategy_param = self.Asset.operational_parameters()['strategy']['parameters']\n",
    "        self.strat_candle_interval = self.strategy_param['candle_interval']\n",
    "        self.Strategy = locate('modules.strategies.' + self.strategy_name)(self.strategy_param)        \n",
    "        self.StrategyCandlesNum = self.Strategy.how_many_candles()        \n",
    "        # Stop Loss\n",
    "        self.stop_name = self.Asset.operational_parameters()['stop_loss']['name']\n",
    "        self.stop_param = self.Asset.operational_parameters()['stop_loss']['parameters']\n",
    "        self.stop_candle_interval = self.stop_param['candle_interval']\n",
    "        self.StopLoss = locate('modules.stop_loss.' + self.stop_name)(self.stop_param)\n",
    "        self.StopCandlesNum = self.StopLoss.how_many_candles()\n",
    "        # Order Handler (broker)\n",
    "        self.OrderHandler = locate('modules.order_handler' + exchange_name.capitalize() + 'Handler')\n",
    "        # Klines Handler\n",
    "        self.KlinesHandler = locate('modules.klines_handler.' + exchange_name.capitalize() + 'FromDb')()\n",
    "        \n",
    "    def for_real(self):\n",
    "        self.position = RealTradePosition(self.Asset.get_dataframe().iloc[0].position)\n",
    "    \n",
    "    def backing_test(self):\n",
    "        self.position = BackingTestPosition({'side': 'closed', 'size': 0.0, 'target_price': 0.0})\n",
    "        \n",
    "        print('Loanding klines...')\n",
    "        print(' ')\n",
    "        all_1m_klines = self.KlinesHandler.all_latest_one_minute(self.asset_symbol)\n",
    "        print ('Ok! klines load!')\n",
    "        print(' ')\n",
    "        \n",
    "        #TODO: Verificar se os tamanhos das 'slices' são menores que o número de klines de 1m\n",
    "        strategy_1m_slice = OMCA(self.strat_candle_interval).total(self.StrategyCandlesNum)\n",
    "        stop_1m_slice = OMCA(self.stop_candle_interval).total(self.StopCandlesNum)\n",
    "        \n",
    "        end_index = max(strategy_1m_slice, stop_1m_slice)\n",
    "        strategy_start_index = end_index - strategy_1m_slice; stop_start_index = end_index - stop_1m_slice\n",
    "        \n",
    "        print('Start to cycle')\n",
    "        print(' ')\n",
    "        while end_index < len(all_1m_klines):\n",
    "            verbose_position('backing test', self.position)\n",
    "            \n",
    "            if(self.position.side != 'closed'):\n",
    "                print('You are positioned! Checking stop')\n",
    "                print(' ')\n",
    "                \n",
    "                klines_to_stop_analisys = Transform(\n",
    "                    all_1m_klines[stop_start_index:end_index]).from_1m_to(self.stop_candle_interval)\n",
    "                \n",
    "                verbose_klines('Stop', klines_to_stop_analisys)\n",
    "                \n",
    "                stop = self.StopLoss.verify(klines_to_stop_analisys, self.position)\n",
    "    \n",
    "                if (stop.is_true):\n",
    "                    print('Stop hit!')\n",
    "                    print(' ')\n",
    "                    order = self.OrderHandler.execute(stop.order, in_mode='backing_test')\n",
    "                    order_confirmation = self.OrderHandler.check(order, in_mode='backing_test')\n",
    "                    position.update_with(order_confirmation)\n",
    "                \n",
    "                else:\n",
    "                    print('Dont stop for now')\n",
    "                    print(' ')\n",
    "    \n",
    "                if(stop.update_target):\n",
    "                    print('New target price hit!')\n",
    "                    print(' ')\n",
    "                    \n",
    "                    self.position.target_price = stop.new_target_price\n",
    "            \n",
    "            klines_to_strategy_analisys = Transform(\n",
    "                all_1m_klines[strategy_start_index:end_index]).from_1m_to(self.strat_candle_interval)\n",
    "            verbose_klines('Strategy', klines_to_strategy_analisys)\n",
    "\n",
    "            trade = self.Strategy.verify(klines_to_strategy_analisys, self.position)\n",
    "\n",
    "            if (trade.is_true):\n",
    "                print('Trade!')\n",
    "                print(' ')\n",
    "                order = self.OrderHandler.execute(trade.order, in_mode='backing_test')\n",
    "                order_confirmation = self.OrderHandler.check(order, in_mode='backing_test')\n",
    "                self.position.update_with(order_confirmation)\n",
    "            \n",
    "            strategy_start_index+=1; stop_start_index+=1; end_index+=1"
   ]
  },
  {
   "cell_type": "code",
   "execution_count": 9,
   "metadata": {},
   "outputs": [],
   "source": [
    "exchange_name, asset_symbol = 'binance', 'BTCUSDT'\n",
    "\n",
    "trader = Trader(exchange_name, asset_symbol)"
   ]
  },
  {
   "cell_type": "code",
   "execution_count": 10,
   "metadata": {},
   "outputs": [
    {
     "name": "stdout",
     "output_type": "stream",
     "text": [
      "Loanding klines...\n",
      " \n",
      "Ok! klines load!\n",
      " \n",
      "Start to cycle\n",
      " \n",
      "A posição atual é: {'side': 'closed', 'size': 0.0, 'target_price': 0.0}\n",
      " \n",
      "As últimas klines para a análise de Strategy são:\n",
      " \n",
      "              open_time     open     high      low    close   volume\n",
      "95  2019-09-05 00:00:00  10565.9  10575.2  10487.2  10508.5  2093.31\n",
      "96  2019-09-05 01:00:00    10509  10554.8  10494.3    10533  926.797\n",
      "97  2019-09-05 02:00:00    10533  10558.9  10502.7    10536  815.014\n",
      "98  2019-09-05 03:00:00  10537.1  10563.2    10490  10550.4  1067.49\n",
      "99  2019-09-05 04:00:00    10550  10608.7  10539.3  10572.4  1105.95\n",
      " \n"
     ]
    },
    {
     "ename": "KeyError",
     "evalue": "-1",
     "output_type": "error",
     "traceback": [
      "\u001b[0;31m---------------------------------------------------------------------------\u001b[0m",
      "\u001b[0;31mKeyError\u001b[0m                                  Traceback (most recent call last)",
      "\u001b[0;32m<ipython-input-10-fc22dadacbd1>\u001b[0m in \u001b[0;36m<module>\u001b[0;34m\u001b[0m\n\u001b[0;32m----> 1\u001b[0;31m \u001b[0mtrader\u001b[0m\u001b[0;34m.\u001b[0m\u001b[0mbacking_test\u001b[0m\u001b[0;34m(\u001b[0m\u001b[0;34m)\u001b[0m\u001b[0;34m\u001b[0m\u001b[0;34m\u001b[0m\u001b[0m\n\u001b[0m",
      "\u001b[0;32m<ipython-input-8-463de9d844ba>\u001b[0m in \u001b[0;36mbacking_test\u001b[0;34m(self)\u001b[0m\n\u001b[1;32m     84\u001b[0m             \u001b[0mverbose_klines\u001b[0m\u001b[0;34m(\u001b[0m\u001b[0;34m'Strategy'\u001b[0m\u001b[0;34m,\u001b[0m \u001b[0mklines_to_strategy_analisys\u001b[0m\u001b[0;34m)\u001b[0m\u001b[0;34m\u001b[0m\u001b[0;34m\u001b[0m\u001b[0m\n\u001b[1;32m     85\u001b[0m \u001b[0;34m\u001b[0m\u001b[0m\n\u001b[0;32m---> 86\u001b[0;31m             \u001b[0mtrade\u001b[0m \u001b[0;34m=\u001b[0m \u001b[0mself\u001b[0m\u001b[0;34m.\u001b[0m\u001b[0mStrategy\u001b[0m\u001b[0;34m.\u001b[0m\u001b[0mverify\u001b[0m\u001b[0;34m(\u001b[0m\u001b[0mklines_to_strategy_analisys\u001b[0m\u001b[0;34m,\u001b[0m \u001b[0mself\u001b[0m\u001b[0;34m.\u001b[0m\u001b[0mposition\u001b[0m\u001b[0;34m)\u001b[0m\u001b[0;34m\u001b[0m\u001b[0;34m\u001b[0m\u001b[0m\n\u001b[0m\u001b[1;32m     87\u001b[0m \u001b[0;34m\u001b[0m\u001b[0m\n\u001b[1;32m     88\u001b[0m             \u001b[0;32mif\u001b[0m \u001b[0;34m(\u001b[0m\u001b[0mtrade\u001b[0m\u001b[0;34m.\u001b[0m\u001b[0mis_true\u001b[0m\u001b[0;34m)\u001b[0m\u001b[0;34m:\u001b[0m\u001b[0;34m\u001b[0m\u001b[0;34m\u001b[0m\u001b[0m\n",
      "\u001b[0;32m~/00-projetos/pandazord_draft/trader/modules/strategies.py\u001b[0m in \u001b[0;36mverify\u001b[0;34m(self, klines, position)\u001b[0m\n\u001b[1;32m     38\u001b[0m     \u001b[0;32mdef\u001b[0m \u001b[0mverify\u001b[0m\u001b[0;34m(\u001b[0m\u001b[0mself\u001b[0m\u001b[0;34m,\u001b[0m \u001b[0mklines\u001b[0m\u001b[0;34m,\u001b[0m \u001b[0mposition\u001b[0m\u001b[0;34m)\u001b[0m\u001b[0;34m:\u001b[0m\u001b[0;34m\u001b[0m\u001b[0;34m\u001b[0m\u001b[0m\n\u001b[1;32m     39\u001b[0m \u001b[0;34m\u001b[0m\u001b[0m\n\u001b[0;32m---> 40\u001b[0;31m         \u001b[0mside\u001b[0m\u001b[0;34m,\u001b[0m \u001b[0mleverage\u001b[0m \u001b[0;34m=\u001b[0m \u001b[0mself\u001b[0m\u001b[0;34m.\u001b[0m\u001b[0mwhat_side_and_leverage\u001b[0m\u001b[0;34m(\u001b[0m\u001b[0mklines\u001b[0m\u001b[0;34m)\u001b[0m\u001b[0;34m\u001b[0m\u001b[0;34m\u001b[0m\u001b[0m\n\u001b[0m\u001b[1;32m     41\u001b[0m \u001b[0;34m\u001b[0m\u001b[0m\n\u001b[1;32m     42\u001b[0m         \u001b[0;32mclass\u001b[0m \u001b[0mTrade\u001b[0m\u001b[0;34m:\u001b[0m\u001b[0;34m\u001b[0m\u001b[0;34m\u001b[0m\u001b[0m\n",
      "\u001b[0;32m~/00-projetos/pandazord_draft/trader/modules/strategies.py\u001b[0m in \u001b[0;36mwhat_side_and_leverage\u001b[0;34m(self, klines)\u001b[0m\n\u001b[1;32m     29\u001b[0m \u001b[0;34m\u001b[0m\u001b[0m\n\u001b[1;32m     30\u001b[0m             \u001b[0mrolling_mean\u001b[0m \u001b[0;34m=\u001b[0m \u001b[0mTrend\u001b[0m\u001b[0;34m(\u001b[0m\u001b[0mklines\u001b[0m\u001b[0;34m)\u001b[0m\u001b[0;34m.\u001b[0m\u001b[0msimple_moving_average\u001b[0m\u001b[0;34m\u001b[0m\u001b[0;34m\u001b[0m\u001b[0m\n\u001b[0;32m---> 31\u001b[0;31m             \u001b[0mlast_smaller\u001b[0m \u001b[0;34m=\u001b[0m \u001b[0mrolling_mean\u001b[0m\u001b[0;34m(\u001b[0m\u001b[0mself\u001b[0m\u001b[0;34m.\u001b[0m\u001b[0mprice_source\u001b[0m\u001b[0;34m,\u001b[0m \u001b[0mself\u001b[0m\u001b[0;34m.\u001b[0m\u001b[0mn_smaller\u001b[0m\u001b[0;34m)\u001b[0m\u001b[0;34m[\u001b[0m\u001b[0;34m-\u001b[0m\u001b[0;36m1\u001b[0m\u001b[0;34m]\u001b[0m\u001b[0;34m\u001b[0m\u001b[0;34m\u001b[0m\u001b[0m\n\u001b[0m\u001b[1;32m     32\u001b[0m             \u001b[0mlast_bigger\u001b[0m \u001b[0;34m=\u001b[0m \u001b[0mrolling_mean\u001b[0m\u001b[0;34m(\u001b[0m\u001b[0mself\u001b[0m\u001b[0;34m.\u001b[0m\u001b[0mprice_source\u001b[0m\u001b[0;34m,\u001b[0m \u001b[0mself\u001b[0m\u001b[0;34m.\u001b[0m\u001b[0mn_bigger\u001b[0m\u001b[0;34m)\u001b[0m\u001b[0;34m[\u001b[0m\u001b[0;34m-\u001b[0m\u001b[0;36m1\u001b[0m\u001b[0;34m]\u001b[0m\u001b[0;34m\u001b[0m\u001b[0;34m\u001b[0m\u001b[0m\n\u001b[1;32m     33\u001b[0m \u001b[0;34m\u001b[0m\u001b[0m\n",
      "\u001b[0;32m~/.local/share/virtualenvs/trader-cX_U06MR/lib/python3.8/site-packages/pandas/core/series.py\u001b[0m in \u001b[0;36m__getitem__\u001b[0;34m(self, key)\u001b[0m\n\u001b[1;32m    869\u001b[0m         \u001b[0mkey\u001b[0m \u001b[0;34m=\u001b[0m \u001b[0mcom\u001b[0m\u001b[0;34m.\u001b[0m\u001b[0mapply_if_callable\u001b[0m\u001b[0;34m(\u001b[0m\u001b[0mkey\u001b[0m\u001b[0;34m,\u001b[0m \u001b[0mself\u001b[0m\u001b[0;34m)\u001b[0m\u001b[0;34m\u001b[0m\u001b[0;34m\u001b[0m\u001b[0m\n\u001b[1;32m    870\u001b[0m         \u001b[0;32mtry\u001b[0m\u001b[0;34m:\u001b[0m\u001b[0;34m\u001b[0m\u001b[0;34m\u001b[0m\u001b[0m\n\u001b[0;32m--> 871\u001b[0;31m             \u001b[0mresult\u001b[0m \u001b[0;34m=\u001b[0m \u001b[0mself\u001b[0m\u001b[0;34m.\u001b[0m\u001b[0mindex\u001b[0m\u001b[0;34m.\u001b[0m\u001b[0mget_value\u001b[0m\u001b[0;34m(\u001b[0m\u001b[0mself\u001b[0m\u001b[0;34m,\u001b[0m \u001b[0mkey\u001b[0m\u001b[0;34m)\u001b[0m\u001b[0;34m\u001b[0m\u001b[0;34m\u001b[0m\u001b[0m\n\u001b[0m\u001b[1;32m    872\u001b[0m \u001b[0;34m\u001b[0m\u001b[0m\n\u001b[1;32m    873\u001b[0m             \u001b[0;32mif\u001b[0m \u001b[0;32mnot\u001b[0m \u001b[0mis_scalar\u001b[0m\u001b[0;34m(\u001b[0m\u001b[0mresult\u001b[0m\u001b[0;34m)\u001b[0m\u001b[0;34m:\u001b[0m\u001b[0;34m\u001b[0m\u001b[0;34m\u001b[0m\u001b[0m\n",
      "\u001b[0;32m~/.local/share/virtualenvs/trader-cX_U06MR/lib/python3.8/site-packages/pandas/core/indexes/base.py\u001b[0m in \u001b[0;36mget_value\u001b[0;34m(self, series, key)\u001b[0m\n\u001b[1;32m   4403\u001b[0m         \u001b[0mk\u001b[0m \u001b[0;34m=\u001b[0m \u001b[0mself\u001b[0m\u001b[0;34m.\u001b[0m\u001b[0m_convert_scalar_indexer\u001b[0m\u001b[0;34m(\u001b[0m\u001b[0mk\u001b[0m\u001b[0;34m,\u001b[0m \u001b[0mkind\u001b[0m\u001b[0;34m=\u001b[0m\u001b[0;34m\"getitem\"\u001b[0m\u001b[0;34m)\u001b[0m\u001b[0;34m\u001b[0m\u001b[0;34m\u001b[0m\u001b[0m\n\u001b[1;32m   4404\u001b[0m         \u001b[0;32mtry\u001b[0m\u001b[0;34m:\u001b[0m\u001b[0;34m\u001b[0m\u001b[0;34m\u001b[0m\u001b[0m\n\u001b[0;32m-> 4405\u001b[0;31m             \u001b[0;32mreturn\u001b[0m \u001b[0mself\u001b[0m\u001b[0;34m.\u001b[0m\u001b[0m_engine\u001b[0m\u001b[0;34m.\u001b[0m\u001b[0mget_value\u001b[0m\u001b[0;34m(\u001b[0m\u001b[0ms\u001b[0m\u001b[0;34m,\u001b[0m \u001b[0mk\u001b[0m\u001b[0;34m,\u001b[0m \u001b[0mtz\u001b[0m\u001b[0;34m=\u001b[0m\u001b[0mgetattr\u001b[0m\u001b[0;34m(\u001b[0m\u001b[0mseries\u001b[0m\u001b[0;34m.\u001b[0m\u001b[0mdtype\u001b[0m\u001b[0;34m,\u001b[0m \u001b[0;34m\"tz\"\u001b[0m\u001b[0;34m,\u001b[0m \u001b[0;32mNone\u001b[0m\u001b[0;34m)\u001b[0m\u001b[0;34m)\u001b[0m\u001b[0;34m\u001b[0m\u001b[0;34m\u001b[0m\u001b[0m\n\u001b[0m\u001b[1;32m   4406\u001b[0m         \u001b[0;32mexcept\u001b[0m \u001b[0mKeyError\u001b[0m \u001b[0;32mas\u001b[0m \u001b[0me1\u001b[0m\u001b[0;34m:\u001b[0m\u001b[0;34m\u001b[0m\u001b[0;34m\u001b[0m\u001b[0m\n\u001b[1;32m   4407\u001b[0m             \u001b[0;32mif\u001b[0m \u001b[0mlen\u001b[0m\u001b[0;34m(\u001b[0m\u001b[0mself\u001b[0m\u001b[0;34m)\u001b[0m \u001b[0;34m>\u001b[0m \u001b[0;36m0\u001b[0m \u001b[0;32mand\u001b[0m \u001b[0;34m(\u001b[0m\u001b[0mself\u001b[0m\u001b[0;34m.\u001b[0m\u001b[0mholds_integer\u001b[0m\u001b[0;34m(\u001b[0m\u001b[0;34m)\u001b[0m \u001b[0;32mor\u001b[0m \u001b[0mself\u001b[0m\u001b[0;34m.\u001b[0m\u001b[0mis_boolean\u001b[0m\u001b[0;34m(\u001b[0m\u001b[0;34m)\u001b[0m\u001b[0;34m)\u001b[0m\u001b[0;34m:\u001b[0m\u001b[0;34m\u001b[0m\u001b[0;34m\u001b[0m\u001b[0m\n",
      "\u001b[0;32mpandas/_libs/index.pyx\u001b[0m in \u001b[0;36mpandas._libs.index.IndexEngine.get_value\u001b[0;34m()\u001b[0m\n",
      "\u001b[0;32mpandas/_libs/index.pyx\u001b[0m in \u001b[0;36mpandas._libs.index.IndexEngine.get_value\u001b[0;34m()\u001b[0m\n",
      "\u001b[0;32mpandas/_libs/index.pyx\u001b[0m in \u001b[0;36mpandas._libs.index.IndexEngine.get_loc\u001b[0;34m()\u001b[0m\n",
      "\u001b[0;32mpandas/_libs/hashtable_class_helper.pxi\u001b[0m in \u001b[0;36mpandas._libs.hashtable.Int64HashTable.get_item\u001b[0;34m()\u001b[0m\n",
      "\u001b[0;32mpandas/_libs/hashtable_class_helper.pxi\u001b[0m in \u001b[0;36mpandas._libs.hashtable.Int64HashTable.get_item\u001b[0;34m()\u001b[0m\n",
      "\u001b[0;31mKeyError\u001b[0m: -1"
     ]
    }
   ],
   "source": [
    "trader.backing_test()"
   ]
  },
  {
   "cell_type": "code",
   "execution_count": null,
   "metadata": {},
   "outputs": [],
   "source": []
  },
  {
   "cell_type": "code",
   "execution_count": null,
   "metadata": {},
   "outputs": [],
   "source": []
  },
  {
   "cell_type": "code",
   "execution_count": null,
   "metadata": {},
   "outputs": [],
   "source": [
    "#'order', tanto no stop quanto na estratégia, será um dicionário, para manter a simplicidade"
   ]
  },
  {
   "cell_type": "code",
   "execution_count": null,
   "metadata": {},
   "outputs": [],
   "source": [
    "exchange_name, asset_symbol = 'binance', 'BTCUSDT'\n",
    "\n",
    "trader = Trader(exchange_name, asset_symbol)"
   ]
  },
  {
   "cell_type": "code",
   "execution_count": null,
   "metadata": {},
   "outputs": [],
   "source": [
    "trader.backing_test()"
   ]
  },
  {
   "cell_type": "code",
   "execution_count": null,
   "metadata": {},
   "outputs": [],
   "source": [
    "trader.position.show()"
   ]
  },
  {
   "cell_type": "code",
   "execution_count": null,
   "metadata": {},
   "outputs": [],
   "source": [
    "trader.strategy_1m_slice"
   ]
  },
  {
   "cell_type": "raw",
   "metadata": {},
   "source": []
  },
  {
   "cell_type": "code",
   "execution_count": null,
   "metadata": {},
   "outputs": [],
   "source": [
    "from modules.klines_handler import OneMinuteCandlesAmount, Transform\n",
    "\n",
    "n_stop = OneMinuteCandlesAmount(trader.stop_param['candle_interval']).total(trader.StopLoss.how_many_candles())"
   ]
  },
  {
   "cell_type": "code",
   "execution_count": null,
   "metadata": {},
   "outputs": [],
   "source": [
    "n_stop"
   ]
  },
  {
   "cell_type": "code",
   "execution_count": 17,
   "metadata": {},
   "outputs": [],
   "source": [
    "exchange_name = 'binance'\n",
    "asset_symbol = 'BTCUSDT'\n",
    "\n",
    "from modules.assets_handler import AssetsHandler\n",
    "from modules.klines_handler import OneMinuteCandlesAmount, Transform\n",
    "from pydoc import locate\n",
    "import time\n",
    "\n",
    "Asset = AssetsHandler(exchange_name, asset_symbol)\n",
    "\n",
    "#Operational Parameters\n",
    "op_param = Asset.operational_parameters()\n",
    "strategy_param = op_param['strategy']['parameters']\n",
    "stop_param = op_param['stop_loss']['parameters']\n",
    "\n",
    "strategy_name = op_param['strategy']['name']\n",
    "stop_name = op_param['stop_loss']['name']\n",
    "\n",
    "Strategy = locate('modules.strategies.' + strategy_name)(strategy_param)\n",
    "StopLoss = locate('modules.stop_loss.' + stop_name)(stop_param)\n",
    "OrderHandler = locate('modules.order_handler' + exchange_name.capitalize() + 'Handler')\n",
    "KlinesHandler = locate('modules.klines_handler.' + exchange_name.capitalize() + 'FromDb')()\n"
   ]
  },
  {
   "cell_type": "code",
   "execution_count": 20,
   "metadata": {},
   "outputs": [
    {
     "ename": "KeyError",
     "evalue": "-1",
     "output_type": "error",
     "traceback": [
      "\u001b[0;31m---------------------------------------------------------------------------\u001b[0m",
      "\u001b[0;31mKeyError\u001b[0m                                  Traceback (most recent call last)",
      "\u001b[0;32m<ipython-input-20-5224b2ddad50>\u001b[0m in \u001b[0;36m<module>\u001b[0;34m\u001b[0m\n\u001b[1;32m      7\u001b[0m                                                        number_of_candles=n_candles_to_strategy_analisys)\n\u001b[1;32m      8\u001b[0m \u001b[0;34m\u001b[0m\u001b[0m\n\u001b[0;32m----> 9\u001b[0;31m \u001b[0mtrade\u001b[0m \u001b[0;34m=\u001b[0m \u001b[0mStrategy\u001b[0m\u001b[0;34m.\u001b[0m\u001b[0mverify\u001b[0m\u001b[0;34m(\u001b[0m\u001b[0mklines_to_strategy_analisys\u001b[0m\u001b[0;34m,\u001b[0m \u001b[0mposition\u001b[0m\u001b[0;34m)\u001b[0m\u001b[0;34m\u001b[0m\u001b[0;34m\u001b[0m\u001b[0m\n\u001b[0m\u001b[1;32m     10\u001b[0m \u001b[0;34m\u001b[0m\u001b[0m\n\u001b[1;32m     11\u001b[0m \u001b[0mprint\u001b[0m\u001b[0;34m(\u001b[0m\u001b[0;34m'Últimas klines'\u001b[0m\u001b[0;34m)\u001b[0m\u001b[0;34m\u001b[0m\u001b[0;34m\u001b[0m\u001b[0m\n",
      "\u001b[0;32m~/00-projetos/pandazord_draft/trader/modules/strategies.py\u001b[0m in \u001b[0;36mverify\u001b[0;34m(self, klines, position)\u001b[0m\n\u001b[1;32m     38\u001b[0m     \u001b[0;32mdef\u001b[0m \u001b[0mverify\u001b[0m\u001b[0;34m(\u001b[0m\u001b[0mself\u001b[0m\u001b[0;34m,\u001b[0m \u001b[0mklines\u001b[0m\u001b[0;34m,\u001b[0m \u001b[0mposition\u001b[0m\u001b[0;34m)\u001b[0m\u001b[0;34m:\u001b[0m\u001b[0;34m\u001b[0m\u001b[0;34m\u001b[0m\u001b[0m\n\u001b[1;32m     39\u001b[0m \u001b[0;34m\u001b[0m\u001b[0m\n\u001b[0;32m---> 40\u001b[0;31m         \u001b[0mside\u001b[0m\u001b[0;34m,\u001b[0m \u001b[0mleverage\u001b[0m \u001b[0;34m=\u001b[0m \u001b[0mself\u001b[0m\u001b[0;34m.\u001b[0m\u001b[0mwhat_side_and_leverage\u001b[0m\u001b[0;34m(\u001b[0m\u001b[0mklines\u001b[0m\u001b[0;34m)\u001b[0m\u001b[0;34m\u001b[0m\u001b[0;34m\u001b[0m\u001b[0m\n\u001b[0m\u001b[1;32m     41\u001b[0m \u001b[0;34m\u001b[0m\u001b[0m\n\u001b[1;32m     42\u001b[0m         \u001b[0;32mclass\u001b[0m \u001b[0mTrade\u001b[0m\u001b[0;34m:\u001b[0m\u001b[0;34m\u001b[0m\u001b[0;34m\u001b[0m\u001b[0m\n",
      "\u001b[0;32m~/00-projetos/pandazord_draft/trader/modules/strategies.py\u001b[0m in \u001b[0;36mwhat_side_and_leverage\u001b[0;34m(self, klines)\u001b[0m\n\u001b[1;32m     29\u001b[0m \u001b[0;34m\u001b[0m\u001b[0m\n\u001b[1;32m     30\u001b[0m             \u001b[0mrolling_mean\u001b[0m \u001b[0;34m=\u001b[0m \u001b[0mTrend\u001b[0m\u001b[0;34m(\u001b[0m\u001b[0mklines\u001b[0m\u001b[0;34m)\u001b[0m\u001b[0;34m.\u001b[0m\u001b[0msimple_moving_average\u001b[0m\u001b[0;34m\u001b[0m\u001b[0;34m\u001b[0m\u001b[0m\n\u001b[0;32m---> 31\u001b[0;31m             \u001b[0mlast_smaller\u001b[0m \u001b[0;34m=\u001b[0m \u001b[0mrolling_mean\u001b[0m\u001b[0;34m(\u001b[0m\u001b[0mself\u001b[0m\u001b[0;34m.\u001b[0m\u001b[0mprice_source\u001b[0m\u001b[0;34m,\u001b[0m \u001b[0mself\u001b[0m\u001b[0;34m.\u001b[0m\u001b[0mn_smaller\u001b[0m\u001b[0;34m)\u001b[0m\u001b[0;34m[\u001b[0m\u001b[0;34m-\u001b[0m\u001b[0;36m1\u001b[0m\u001b[0;34m]\u001b[0m\u001b[0;34m\u001b[0m\u001b[0;34m\u001b[0m\u001b[0m\n\u001b[0m\u001b[1;32m     32\u001b[0m             \u001b[0mlast_bigger\u001b[0m \u001b[0;34m=\u001b[0m \u001b[0mrolling_mean\u001b[0m\u001b[0;34m(\u001b[0m\u001b[0mself\u001b[0m\u001b[0;34m.\u001b[0m\u001b[0mprice_source\u001b[0m\u001b[0;34m,\u001b[0m \u001b[0mself\u001b[0m\u001b[0;34m.\u001b[0m\u001b[0mn_bigger\u001b[0m\u001b[0;34m)\u001b[0m\u001b[0;34m[\u001b[0m\u001b[0;34m-\u001b[0m\u001b[0;36m1\u001b[0m\u001b[0;34m]\u001b[0m\u001b[0;34m\u001b[0m\u001b[0;34m\u001b[0m\u001b[0m\n\u001b[1;32m     33\u001b[0m \u001b[0;34m\u001b[0m\u001b[0m\n",
      "\u001b[0;32m~/.local/share/virtualenvs/trader-cX_U06MR/lib/python3.8/site-packages/pandas/core/series.py\u001b[0m in \u001b[0;36m__getitem__\u001b[0;34m(self, key)\u001b[0m\n\u001b[1;32m    869\u001b[0m         \u001b[0mkey\u001b[0m \u001b[0;34m=\u001b[0m \u001b[0mcom\u001b[0m\u001b[0;34m.\u001b[0m\u001b[0mapply_if_callable\u001b[0m\u001b[0;34m(\u001b[0m\u001b[0mkey\u001b[0m\u001b[0;34m,\u001b[0m \u001b[0mself\u001b[0m\u001b[0;34m)\u001b[0m\u001b[0;34m\u001b[0m\u001b[0;34m\u001b[0m\u001b[0m\n\u001b[1;32m    870\u001b[0m         \u001b[0;32mtry\u001b[0m\u001b[0;34m:\u001b[0m\u001b[0;34m\u001b[0m\u001b[0;34m\u001b[0m\u001b[0m\n\u001b[0;32m--> 871\u001b[0;31m             \u001b[0mresult\u001b[0m \u001b[0;34m=\u001b[0m \u001b[0mself\u001b[0m\u001b[0;34m.\u001b[0m\u001b[0mindex\u001b[0m\u001b[0;34m.\u001b[0m\u001b[0mget_value\u001b[0m\u001b[0;34m(\u001b[0m\u001b[0mself\u001b[0m\u001b[0;34m,\u001b[0m \u001b[0mkey\u001b[0m\u001b[0;34m)\u001b[0m\u001b[0;34m\u001b[0m\u001b[0;34m\u001b[0m\u001b[0m\n\u001b[0m\u001b[1;32m    872\u001b[0m \u001b[0;34m\u001b[0m\u001b[0m\n\u001b[1;32m    873\u001b[0m             \u001b[0;32mif\u001b[0m \u001b[0;32mnot\u001b[0m \u001b[0mis_scalar\u001b[0m\u001b[0;34m(\u001b[0m\u001b[0mresult\u001b[0m\u001b[0;34m)\u001b[0m\u001b[0;34m:\u001b[0m\u001b[0;34m\u001b[0m\u001b[0;34m\u001b[0m\u001b[0m\n",
      "\u001b[0;32m~/.local/share/virtualenvs/trader-cX_U06MR/lib/python3.8/site-packages/pandas/core/indexes/base.py\u001b[0m in \u001b[0;36mget_value\u001b[0;34m(self, series, key)\u001b[0m\n\u001b[1;32m   4403\u001b[0m         \u001b[0mk\u001b[0m \u001b[0;34m=\u001b[0m \u001b[0mself\u001b[0m\u001b[0;34m.\u001b[0m\u001b[0m_convert_scalar_indexer\u001b[0m\u001b[0;34m(\u001b[0m\u001b[0mk\u001b[0m\u001b[0;34m,\u001b[0m \u001b[0mkind\u001b[0m\u001b[0;34m=\u001b[0m\u001b[0;34m\"getitem\"\u001b[0m\u001b[0;34m)\u001b[0m\u001b[0;34m\u001b[0m\u001b[0;34m\u001b[0m\u001b[0m\n\u001b[1;32m   4404\u001b[0m         \u001b[0;32mtry\u001b[0m\u001b[0;34m:\u001b[0m\u001b[0;34m\u001b[0m\u001b[0;34m\u001b[0m\u001b[0m\n\u001b[0;32m-> 4405\u001b[0;31m             \u001b[0;32mreturn\u001b[0m \u001b[0mself\u001b[0m\u001b[0;34m.\u001b[0m\u001b[0m_engine\u001b[0m\u001b[0;34m.\u001b[0m\u001b[0mget_value\u001b[0m\u001b[0;34m(\u001b[0m\u001b[0ms\u001b[0m\u001b[0;34m,\u001b[0m \u001b[0mk\u001b[0m\u001b[0;34m,\u001b[0m \u001b[0mtz\u001b[0m\u001b[0;34m=\u001b[0m\u001b[0mgetattr\u001b[0m\u001b[0;34m(\u001b[0m\u001b[0mseries\u001b[0m\u001b[0;34m.\u001b[0m\u001b[0mdtype\u001b[0m\u001b[0;34m,\u001b[0m \u001b[0;34m\"tz\"\u001b[0m\u001b[0;34m,\u001b[0m \u001b[0;32mNone\u001b[0m\u001b[0;34m)\u001b[0m\u001b[0;34m)\u001b[0m\u001b[0;34m\u001b[0m\u001b[0;34m\u001b[0m\u001b[0m\n\u001b[0m\u001b[1;32m   4406\u001b[0m         \u001b[0;32mexcept\u001b[0m \u001b[0mKeyError\u001b[0m \u001b[0;32mas\u001b[0m \u001b[0me1\u001b[0m\u001b[0;34m:\u001b[0m\u001b[0;34m\u001b[0m\u001b[0;34m\u001b[0m\u001b[0m\n\u001b[1;32m   4407\u001b[0m             \u001b[0;32mif\u001b[0m \u001b[0mlen\u001b[0m\u001b[0;34m(\u001b[0m\u001b[0mself\u001b[0m\u001b[0;34m)\u001b[0m \u001b[0;34m>\u001b[0m \u001b[0;36m0\u001b[0m \u001b[0;32mand\u001b[0m \u001b[0;34m(\u001b[0m\u001b[0mself\u001b[0m\u001b[0;34m.\u001b[0m\u001b[0mholds_integer\u001b[0m\u001b[0;34m(\u001b[0m\u001b[0;34m)\u001b[0m \u001b[0;32mor\u001b[0m \u001b[0mself\u001b[0m\u001b[0;34m.\u001b[0m\u001b[0mis_boolean\u001b[0m\u001b[0;34m(\u001b[0m\u001b[0;34m)\u001b[0m\u001b[0;34m)\u001b[0m\u001b[0;34m:\u001b[0m\u001b[0;34m\u001b[0m\u001b[0;34m\u001b[0m\u001b[0m\n",
      "\u001b[0;32mpandas/_libs/index.pyx\u001b[0m in \u001b[0;36mpandas._libs.index.IndexEngine.get_value\u001b[0;34m()\u001b[0m\n",
      "\u001b[0;32mpandas/_libs/index.pyx\u001b[0m in \u001b[0;36mpandas._libs.index.IndexEngine.get_value\u001b[0;34m()\u001b[0m\n",
      "\u001b[0;32mpandas/_libs/index.pyx\u001b[0m in \u001b[0;36mpandas._libs.index.IndexEngine.get_loc\u001b[0;34m()\u001b[0m\n",
      "\u001b[0;32mpandas/_libs/hashtable_class_helper.pxi\u001b[0m in \u001b[0;36mpandas._libs.hashtable.Int64HashTable.get_item\u001b[0;34m()\u001b[0m\n",
      "\u001b[0;32mpandas/_libs/hashtable_class_helper.pxi\u001b[0m in \u001b[0;36mpandas._libs.hashtable.Int64HashTable.get_item\u001b[0;34m()\u001b[0m\n",
      "\u001b[0;31mKeyError\u001b[0m: -1"
     ]
    }
   ],
   "source": [
    "position = RealTradePosition(Asset.get_dataframe().iloc[0].position)\n",
    "\n",
    "n_candles_to_strategy_analisys = Strategy.how_many_candles()\n",
    "\n",
    "klines_to_strategy_analisys = KlinesHandler.get_latest(asset_symbol, \n",
    "                                                       candle_interval=strategy_param['candle_interval'], \n",
    "                                                       number_of_candles=n_candles_to_strategy_analisys)\n",
    "\n",
    "trade = Strategy.verify(klines_to_strategy_analisys, position)\n",
    "\n",
    "print('Últimas klines')\n",
    "print(' ')\n",
    "print(klines_to_strategy_analisys.tail())\n",
    "print(' ')\n",
    "print('Posição atual.....................: ', Asset.info().position.iloc[0]['side'])\n",
    "print('Preço alvo Atual..................: ', Asset.info().position.iloc[0]['target_price'])\n",
    "print('Posição e alavancagem definidos....: ', Strategy.what_side_and_leverage(klines_to_strategy_analisys))\n",
    "print('Trade.............................: ', trade.is_true)\n",
    "print('Ordem dada........................: ', trade.command)\n",
    "print('Só para teste, qual a alavancagem.: ', trade.leverage)"
   ]
  },
  {
   "cell_type": "code",
   "execution_count": null,
   "metadata": {},
   "outputs": [],
   "source": []
  },
  {
   "cell_type": "code",
   "execution_count": null,
   "metadata": {},
   "outputs": [],
   "source": []
  },
  {
   "cell_type": "code",
   "execution_count": null,
   "metadata": {},
   "outputs": [],
   "source": []
  },
  {
   "cell_type": "code",
   "execution_count": null,
   "metadata": {},
   "outputs": [],
   "source": []
  },
  {
   "cell_type": "code",
   "execution_count": 14,
   "metadata": {},
   "outputs": [],
   "source": [
    "op_param = Asset.get_dataframe()"
   ]
  },
  {
   "cell_type": "code",
   "execution_count": 15,
   "metadata": {},
   "outputs": [
    {
     "data": {
      "text/html": [
       "<div>\n",
       "<style scoped>\n",
       "    .dataframe tbody tr th:only-of-type {\n",
       "        vertical-align: middle;\n",
       "    }\n",
       "\n",
       "    .dataframe tbody tr th {\n",
       "        vertical-align: top;\n",
       "    }\n",
       "\n",
       "    .dataframe thead th {\n",
       "        text-align: right;\n",
       "    }\n",
       "</style>\n",
       "<table border=\"1\" class=\"dataframe\">\n",
       "  <thead>\n",
       "    <tr style=\"text-align: right;\">\n",
       "      <th></th>\n",
       "      <th>asset_symbol</th>\n",
       "      <th>auto_update</th>\n",
       "      <th>status</th>\n",
       "      <th>last_updated_by_pid</th>\n",
       "      <th>collect_data_since</th>\n",
       "      <th>trade_on</th>\n",
       "      <th>available_amount</th>\n",
       "      <th>operational_parameters</th>\n",
       "      <th>position</th>\n",
       "    </tr>\n",
       "  </thead>\n",
       "  <tbody>\n",
       "    <tr>\n",
       "      <th>0</th>\n",
       "      <td>BTCUSDT</td>\n",
       "      <td>ON</td>\n",
       "      <td>full</td>\n",
       "      <td>5037</td>\n",
       "      <td>2019-09-01 00:00:00+00:00</td>\n",
       "      <td>N</td>\n",
       "      <td>0.0</td>\n",
       "      <td>{'strategy': {'name': 'CrossSMA', 'parameters'...</td>\n",
       "      <td>{'side': 'closed', 'size': 0.0, 'target_price'...</td>\n",
       "    </tr>\n",
       "  </tbody>\n",
       "</table>\n",
       "</div>"
      ],
      "text/plain": [
       "  asset_symbol auto_update status  last_updated_by_pid  \\\n",
       "0      BTCUSDT          ON   full                 5037   \n",
       "\n",
       "         collect_data_since trade_on  available_amount  \\\n",
       "0 2019-09-01 00:00:00+00:00        N               0.0   \n",
       "\n",
       "                              operational_parameters  \\\n",
       "0  {'strategy': {'name': 'CrossSMA', 'parameters'...   \n",
       "\n",
       "                                            position  \n",
       "0  {'side': 'closed', 'size': 0.0, 'target_price'...  "
      ]
     },
     "execution_count": 15,
     "metadata": {},
     "output_type": "execute_result"
    }
   ],
   "source": [
    "op_param.op_param"
   ]
  },
  {
   "cell_type": "code",
   "execution_count": null,
   "metadata": {},
   "outputs": [],
   "source": []
  },
  {
   "cell_type": "code",
   "execution_count": null,
   "metadata": {},
   "outputs": [],
   "source": [
    "\n",
    "from modules.klines_handler import *\n",
    "\n",
    "# Teste estratégia\n",
    "\n",
    "n_candles_to_strategy_analisys = Strategy.how_many_candles()\n",
    "\n",
    "klines_to_strategy_analisys = KlinesHandler.get_latest(asset_symbol, \n",
    "                                                       candle_interval=strategy_param['candle_interval'], \n",
    "                                                       number_of_candles=n_candles_to_strategy_analisys)\n",
    "\n",
    "trade = Strategy.verify(klines_to_strategy_analisys, Asset.info().position.iloc[0])\n",
    "\n",
    "print('Últimas klines')\n",
    "print(' ')\n",
    "print(klines_to_strategy_analisys.tail())\n",
    "print(' ')\n",
    "print('Posição atual.....................: ', Asset.info().position.iloc[0]['side'])\n",
    "print('Preço alvo Atual..................: ', Asset.info().position.iloc[0]['target_price'])\n",
    "print('Posição e alavancagem definidos....: ', Strategy.what_side_and_leverage(klines_to_strategy_analisys))\n",
    "print('Trade.............................: ', trade.is_true)\n",
    "print('Ordem dada........................: ', trade.command)\n",
    "print('Só para teste, qual a alavancagem.: ', trade.leverage)"
   ]
  },
  {
   "cell_type": "code",
   "execution_count": null,
   "metadata": {},
   "outputs": [],
   "source": []
  },
  {
   "cell_type": "code",
   "execution_count": null,
   "metadata": {},
   "outputs": [],
   "source": []
  },
  {
   "cell_type": "code",
   "execution_count": null,
   "metadata": {},
   "outputs": [],
   "source": []
  },
  {
   "cell_type": "code",
   "execution_count": null,
   "metadata": {},
   "outputs": [],
   "source": []
  },
  {
   "cell_type": "code",
   "execution_count": null,
   "metadata": {},
   "outputs": [],
   "source": [
    "trader.Strategy.how_many_candles()"
   ]
  },
  {
   "cell_type": "code",
   "execution_count": null,
   "metadata": {},
   "outputs": [],
   "source": []
  },
  {
   "cell_type": "code",
   "execution_count": null,
   "metadata": {},
   "outputs": [],
   "source": [
    "test_klines = trader.KlinesHandler.get_latest(asset_symbol, '1m', 100)\n",
    "test_klines"
   ]
  },
  {
   "cell_type": "code",
   "execution_count": null,
   "metadata": {},
   "outputs": [],
   "source": [
    "trader.stop_param['candle_interval']"
   ]
  },
  {
   "cell_type": "code",
   "execution_count": null,
   "metadata": {},
   "outputs": [],
   "source": [
    "from modules.klines_handler import OneMinuteCandlesAmount, Transform"
   ]
  },
  {
   "cell_type": "code",
   "execution_count": null,
   "metadata": {},
   "outputs": [],
   "source": [
    "OneMinuteCandlesAmount('1h').total(100)"
   ]
  },
  {
   "cell_type": "code",
   "execution_count": null,
   "metadata": {},
   "outputs": [],
   "source": [
    "trader.Asset.get_dataframe().iloc[0].position"
   ]
  },
  {
   "cell_type": "code",
   "execution_count": null,
   "metadata": {},
   "outputs": [],
   "source": [
    "trader.backing_test()"
   ]
  },
  {
   "cell_type": "code",
   "execution_count": null,
   "metadata": {},
   "outputs": [],
   "source": [
    "StopCandlesNum = 'test'\n",
    "StrategyCandlesNum\n",
    "n_candles_to_stop_analisys = "
   ]
  },
  {
   "cell_type": "code",
   "execution_count": null,
   "metadata": {},
   "outputs": [],
   "source": [
    "trader.KlinesHandler.all_latest_one_minute"
   ]
  },
  {
   "cell_type": "code",
   "execution_count": null,
   "metadata": {},
   "outputs": [],
   "source": [
    "class Myclass:\n",
    "    def __init__(self):\n",
    "        self.my_name_is = self.__class__.__name__\n",
    "    \n",
    "    def who_amn_i(self):\n",
    "        print('hello',self.my_name_is)"
   ]
  },
  {
   "cell_type": "code",
   "execution_count": null,
   "metadata": {},
   "outputs": [],
   "source": [
    "Myclass().who_amn_i()"
   ]
  },
  {
   "cell_type": "code",
   "execution_count": null,
   "metadata": {},
   "outputs": [],
   "source": [
    "some_function('marcus')"
   ]
  },
  {
   "cell_type": "code",
   "execution_count": null,
   "metadata": {},
   "outputs": [],
   "source": [
    "my_function.__name__"
   ]
  },
  {
   "cell_type": "code",
   "execution_count": null,
   "metadata": {},
   "outputs": [],
   "source": [
    "marcus.__name__"
   ]
  },
  {
   "cell_type": "code",
   "execution_count": null,
   "metadata": {},
   "outputs": [],
   "source": [
    "class Outer:\n",
    "    \n",
    "    def __init__(Out, param_to_outer):\n",
    "        Out.param_to_outer = param_to_outer\n",
    "    \n",
    "    def print_outer_exclusive(Out):\n",
    "        print('Hy, im outer', Out.param_to_outer)\n",
    "    \n",
    "    class Inner(Outer):\n",
    "        \n",
    "        def __init__(self, param_to_inner):\n",
    "            self.param_to_inner = param_to_inner\n",
    "        \n",
    "        def print_inner_exclusive(self):\n",
    "            print('Hy, im inner', self.param_to_inner)\n",
    "        \n",
    "        def print_out_and_inner(self):\n",
    "            print('Hy, im double printer. This is the inner arg: {}, and this is the out arg {}'.format(\n",
    "            self.param_to_inner, Outer('test').print_outer_exclusive()))"
   ]
  },
  {
   "cell_type": "code",
   "execution_count": null,
   "metadata": {},
   "outputs": [],
   "source": [
    "Outer('olá').print_outer_exclusive()"
   ]
  },
  {
   "cell_type": "code",
   "execution_count": null,
   "metadata": {},
   "outputs": [],
   "source": [
    "Outer('olá').Inner('paraminner').print_inner_exclusive()"
   ]
  },
  {
   "cell_type": "code",
   "execution_count": null,
   "metadata": {},
   "outputs": [],
   "source": [
    "Outer('olá').Inner('paraminner').print_out_and_inner()"
   ]
  },
  {
   "cell_type": "code",
   "execution_count": null,
   "metadata": {},
   "outputs": [],
   "source": []
  },
  {
   "cell_type": "code",
   "execution_count": null,
   "metadata": {},
   "outputs": [],
   "source": []
  },
  {
   "cell_type": "code",
   "execution_count": null,
   "metadata": {},
   "outputs": [],
   "source": []
  },
  {
   "cell_type": "code",
   "execution_count": null,
   "metadata": {},
   "outputs": [],
   "source": []
  }
 ],
 "metadata": {
  "kernelspec": {
   "display_name": "trader",
   "language": "python",
   "name": "trader"
  },
  "language_info": {
   "codemirror_mode": {
    "name": "ipython",
    "version": 3
   },
   "file_extension": ".py",
   "mimetype": "text/x-python",
   "name": "python",
   "nbconvert_exporter": "python",
   "pygments_lexer": "ipython3",
   "version": "3.8.1"
  }
 },
 "nbformat": 4,
 "nbformat_minor": 4
}
